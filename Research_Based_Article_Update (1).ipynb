{
 "cells": [
  {
   "cell_type": "code",
   "execution_count": null,
   "metadata": {
    "id": "vGtRg07T1z_G"
   },
   "outputs": [],
   "source": [
    "import pandas as pd\n",
    "import numpy as np\n",
    "import matplotlib.pyplot as plt\n",
    "import seaborn as sns\n",
    "from tabulate import tabulate\n",
    "\n",
    "import warnings\n",
    "warnings.filterwarnings('ignore')"
   ]
  },
  {
   "cell_type": "code",
   "execution_count": null,
   "metadata": {
    "id": "U8RbTTWk1z_H"
   },
   "outputs": [],
   "source": [
    "df = pd.read_csv(\"heart_failure_clinical_records_dataset.csv\")\n",
    "df1 = df.copy()"
   ]
  },
  {
   "cell_type": "code",
   "execution_count": null,
   "metadata": {
    "colab": {
     "base_uri": "https://localhost:8080/",
     "height": 226
    },
    "id": "8Cd56LDgljsK",
    "outputId": "08a4adbd-6a16-4184-a0b3-4de70674d042"
   },
   "outputs": [
    {
     "data": {
      "text/html": [
       "<div>\n",
       "<style scoped>\n",
       "    .dataframe tbody tr th:only-of-type {\n",
       "        vertical-align: middle;\n",
       "    }\n",
       "\n",
       "    .dataframe tbody tr th {\n",
       "        vertical-align: top;\n",
       "    }\n",
       "\n",
       "    .dataframe thead th {\n",
       "        text-align: right;\n",
       "    }\n",
       "</style>\n",
       "<table border=\"1\" class=\"dataframe\">\n",
       "  <thead>\n",
       "    <tr style=\"text-align: right;\">\n",
       "      <th></th>\n",
       "      <th>age</th>\n",
       "      <th>anaemia</th>\n",
       "      <th>creatinine_phosphokinase</th>\n",
       "      <th>diabetes</th>\n",
       "      <th>ejection_fraction</th>\n",
       "      <th>high_blood_pressure</th>\n",
       "      <th>platelets</th>\n",
       "      <th>serum_creatinine</th>\n",
       "      <th>serum_sodium</th>\n",
       "      <th>sex</th>\n",
       "      <th>smoking</th>\n",
       "      <th>time</th>\n",
       "      <th>DEATH_EVENT</th>\n",
       "    </tr>\n",
       "  </thead>\n",
       "  <tbody>\n",
       "    <tr>\n",
       "      <th>0</th>\n",
       "      <td>75.0</td>\n",
       "      <td>0</td>\n",
       "      <td>582</td>\n",
       "      <td>0</td>\n",
       "      <td>20</td>\n",
       "      <td>1</td>\n",
       "      <td>265000.00</td>\n",
       "      <td>1.9</td>\n",
       "      <td>130</td>\n",
       "      <td>1</td>\n",
       "      <td>0</td>\n",
       "      <td>4</td>\n",
       "      <td>1</td>\n",
       "    </tr>\n",
       "    <tr>\n",
       "      <th>1</th>\n",
       "      <td>55.0</td>\n",
       "      <td>0</td>\n",
       "      <td>7861</td>\n",
       "      <td>0</td>\n",
       "      <td>38</td>\n",
       "      <td>0</td>\n",
       "      <td>263358.03</td>\n",
       "      <td>1.1</td>\n",
       "      <td>136</td>\n",
       "      <td>1</td>\n",
       "      <td>0</td>\n",
       "      <td>6</td>\n",
       "      <td>1</td>\n",
       "    </tr>\n",
       "    <tr>\n",
       "      <th>2</th>\n",
       "      <td>65.0</td>\n",
       "      <td>0</td>\n",
       "      <td>146</td>\n",
       "      <td>0</td>\n",
       "      <td>20</td>\n",
       "      <td>0</td>\n",
       "      <td>162000.00</td>\n",
       "      <td>1.3</td>\n",
       "      <td>129</td>\n",
       "      <td>1</td>\n",
       "      <td>1</td>\n",
       "      <td>7</td>\n",
       "      <td>1</td>\n",
       "    </tr>\n",
       "    <tr>\n",
       "      <th>3</th>\n",
       "      <td>50.0</td>\n",
       "      <td>1</td>\n",
       "      <td>111</td>\n",
       "      <td>0</td>\n",
       "      <td>20</td>\n",
       "      <td>0</td>\n",
       "      <td>210000.00</td>\n",
       "      <td>1.9</td>\n",
       "      <td>137</td>\n",
       "      <td>1</td>\n",
       "      <td>0</td>\n",
       "      <td>7</td>\n",
       "      <td>1</td>\n",
       "    </tr>\n",
       "    <tr>\n",
       "      <th>4</th>\n",
       "      <td>65.0</td>\n",
       "      <td>1</td>\n",
       "      <td>160</td>\n",
       "      <td>1</td>\n",
       "      <td>20</td>\n",
       "      <td>0</td>\n",
       "      <td>327000.00</td>\n",
       "      <td>2.7</td>\n",
       "      <td>116</td>\n",
       "      <td>0</td>\n",
       "      <td>0</td>\n",
       "      <td>8</td>\n",
       "      <td>1</td>\n",
       "    </tr>\n",
       "  </tbody>\n",
       "</table>\n",
       "</div>"
      ],
      "text/plain": [
       "    age  anaemia  creatinine_phosphokinase  ...  smoking  time  DEATH_EVENT\n",
       "0  75.0        0                       582  ...        0     4            1\n",
       "1  55.0        0                      7861  ...        0     6            1\n",
       "2  65.0        0                       146  ...        1     7            1\n",
       "3  50.0        1                       111  ...        0     7            1\n",
       "4  65.0        1                       160  ...        0     8            1\n",
       "\n",
       "[5 rows x 13 columns]"
      ]
     },
     "execution_count": 3,
     "metadata": {},
     "output_type": "execute_result"
    }
   ],
   "source": [
    "df.head()"
   ]
  },
  {
   "cell_type": "code",
   "execution_count": null,
   "metadata": {
    "colab": {
     "base_uri": "https://localhost:8080/"
    },
    "id": "vz17ixWhljsM",
    "outputId": "4c024d85-bc1b-42f1-adbe-1b7e6ac60238"
   },
   "outputs": [
    {
     "data": {
      "text/plain": [
       "(299, 13)"
      ]
     },
     "execution_count": 4,
     "metadata": {},
     "output_type": "execute_result"
    }
   ],
   "source": [
    "df.shape"
   ]
  },
  {
   "cell_type": "code",
   "execution_count": null,
   "metadata": {
    "colab": {
     "base_uri": "https://localhost:8080/"
    },
    "id": "Pzvo-bfoljsO",
    "outputId": "5013ffca-7263-4ec0-ff25-5d6802ef40b1"
   },
   "outputs": [
    {
     "name": "stdout",
     "output_type": "stream",
     "text": [
      "<class 'pandas.core.frame.DataFrame'>\n",
      "RangeIndex: 299 entries, 0 to 298\n",
      "Data columns (total 13 columns):\n",
      " #   Column                    Non-Null Count  Dtype  \n",
      "---  ------                    --------------  -----  \n",
      " 0   age                       299 non-null    float64\n",
      " 1   anaemia                   299 non-null    int64  \n",
      " 2   creatinine_phosphokinase  299 non-null    int64  \n",
      " 3   diabetes                  299 non-null    int64  \n",
      " 4   ejection_fraction         299 non-null    int64  \n",
      " 5   high_blood_pressure       299 non-null    int64  \n",
      " 6   platelets                 299 non-null    float64\n",
      " 7   serum_creatinine          299 non-null    float64\n",
      " 8   serum_sodium              299 non-null    int64  \n",
      " 9   sex                       299 non-null    int64  \n",
      " 10  smoking                   299 non-null    int64  \n",
      " 11  time                      299 non-null    int64  \n",
      " 12  DEATH_EVENT               299 non-null    int64  \n",
      "dtypes: float64(3), int64(10)\n",
      "memory usage: 30.5 KB\n"
     ]
    }
   ],
   "source": [
    "df.info()"
   ]
  },
  {
   "cell_type": "code",
   "execution_count": null,
   "metadata": {
    "colab": {
     "base_uri": "https://localhost:8080/",
     "height": 457
    },
    "id": "mduI1RJVljsP",
    "outputId": "1ffe8830-d735-4d67-df41-c630d86fa92f"
   },
   "outputs": [
    {
     "data": {
      "text/html": [
       "<div>\n",
       "<style scoped>\n",
       "    .dataframe tbody tr th:only-of-type {\n",
       "        vertical-align: middle;\n",
       "    }\n",
       "\n",
       "    .dataframe tbody tr th {\n",
       "        vertical-align: top;\n",
       "    }\n",
       "\n",
       "    .dataframe thead th {\n",
       "        text-align: right;\n",
       "    }\n",
       "</style>\n",
       "<table border=\"1\" class=\"dataframe\">\n",
       "  <thead>\n",
       "    <tr style=\"text-align: right;\">\n",
       "      <th></th>\n",
       "      <th>count</th>\n",
       "      <th>mean</th>\n",
       "      <th>std</th>\n",
       "      <th>min</th>\n",
       "      <th>25%</th>\n",
       "      <th>50%</th>\n",
       "      <th>75%</th>\n",
       "      <th>max</th>\n",
       "    </tr>\n",
       "  </thead>\n",
       "  <tbody>\n",
       "    <tr>\n",
       "      <th>age</th>\n",
       "      <td>299.0</td>\n",
       "      <td>60.833893</td>\n",
       "      <td>11.894809</td>\n",
       "      <td>40.0</td>\n",
       "      <td>51.0</td>\n",
       "      <td>60.0</td>\n",
       "      <td>70.0</td>\n",
       "      <td>95.0</td>\n",
       "    </tr>\n",
       "    <tr>\n",
       "      <th>anaemia</th>\n",
       "      <td>299.0</td>\n",
       "      <td>0.431438</td>\n",
       "      <td>0.496107</td>\n",
       "      <td>0.0</td>\n",
       "      <td>0.0</td>\n",
       "      <td>0.0</td>\n",
       "      <td>1.0</td>\n",
       "      <td>1.0</td>\n",
       "    </tr>\n",
       "    <tr>\n",
       "      <th>creatinine_phosphokinase</th>\n",
       "      <td>299.0</td>\n",
       "      <td>581.839465</td>\n",
       "      <td>970.287881</td>\n",
       "      <td>23.0</td>\n",
       "      <td>116.5</td>\n",
       "      <td>250.0</td>\n",
       "      <td>582.0</td>\n",
       "      <td>7861.0</td>\n",
       "    </tr>\n",
       "    <tr>\n",
       "      <th>diabetes</th>\n",
       "      <td>299.0</td>\n",
       "      <td>0.418060</td>\n",
       "      <td>0.494067</td>\n",
       "      <td>0.0</td>\n",
       "      <td>0.0</td>\n",
       "      <td>0.0</td>\n",
       "      <td>1.0</td>\n",
       "      <td>1.0</td>\n",
       "    </tr>\n",
       "    <tr>\n",
       "      <th>ejection_fraction</th>\n",
       "      <td>299.0</td>\n",
       "      <td>38.083612</td>\n",
       "      <td>11.834841</td>\n",
       "      <td>14.0</td>\n",
       "      <td>30.0</td>\n",
       "      <td>38.0</td>\n",
       "      <td>45.0</td>\n",
       "      <td>80.0</td>\n",
       "    </tr>\n",
       "    <tr>\n",
       "      <th>high_blood_pressure</th>\n",
       "      <td>299.0</td>\n",
       "      <td>0.351171</td>\n",
       "      <td>0.478136</td>\n",
       "      <td>0.0</td>\n",
       "      <td>0.0</td>\n",
       "      <td>0.0</td>\n",
       "      <td>1.0</td>\n",
       "      <td>1.0</td>\n",
       "    </tr>\n",
       "    <tr>\n",
       "      <th>platelets</th>\n",
       "      <td>299.0</td>\n",
       "      <td>263358.029264</td>\n",
       "      <td>97804.236869</td>\n",
       "      <td>25100.0</td>\n",
       "      <td>212500.0</td>\n",
       "      <td>262000.0</td>\n",
       "      <td>303500.0</td>\n",
       "      <td>850000.0</td>\n",
       "    </tr>\n",
       "    <tr>\n",
       "      <th>serum_creatinine</th>\n",
       "      <td>299.0</td>\n",
       "      <td>1.393880</td>\n",
       "      <td>1.034510</td>\n",
       "      <td>0.5</td>\n",
       "      <td>0.9</td>\n",
       "      <td>1.1</td>\n",
       "      <td>1.4</td>\n",
       "      <td>9.4</td>\n",
       "    </tr>\n",
       "    <tr>\n",
       "      <th>serum_sodium</th>\n",
       "      <td>299.0</td>\n",
       "      <td>136.625418</td>\n",
       "      <td>4.412477</td>\n",
       "      <td>113.0</td>\n",
       "      <td>134.0</td>\n",
       "      <td>137.0</td>\n",
       "      <td>140.0</td>\n",
       "      <td>148.0</td>\n",
       "    </tr>\n",
       "    <tr>\n",
       "      <th>sex</th>\n",
       "      <td>299.0</td>\n",
       "      <td>0.648829</td>\n",
       "      <td>0.478136</td>\n",
       "      <td>0.0</td>\n",
       "      <td>0.0</td>\n",
       "      <td>1.0</td>\n",
       "      <td>1.0</td>\n",
       "      <td>1.0</td>\n",
       "    </tr>\n",
       "    <tr>\n",
       "      <th>smoking</th>\n",
       "      <td>299.0</td>\n",
       "      <td>0.321070</td>\n",
       "      <td>0.467670</td>\n",
       "      <td>0.0</td>\n",
       "      <td>0.0</td>\n",
       "      <td>0.0</td>\n",
       "      <td>1.0</td>\n",
       "      <td>1.0</td>\n",
       "    </tr>\n",
       "    <tr>\n",
       "      <th>time</th>\n",
       "      <td>299.0</td>\n",
       "      <td>130.260870</td>\n",
       "      <td>77.614208</td>\n",
       "      <td>4.0</td>\n",
       "      <td>73.0</td>\n",
       "      <td>115.0</td>\n",
       "      <td>203.0</td>\n",
       "      <td>285.0</td>\n",
       "    </tr>\n",
       "    <tr>\n",
       "      <th>DEATH_EVENT</th>\n",
       "      <td>299.0</td>\n",
       "      <td>0.321070</td>\n",
       "      <td>0.467670</td>\n",
       "      <td>0.0</td>\n",
       "      <td>0.0</td>\n",
       "      <td>0.0</td>\n",
       "      <td>1.0</td>\n",
       "      <td>1.0</td>\n",
       "    </tr>\n",
       "  </tbody>\n",
       "</table>\n",
       "</div>"
      ],
      "text/plain": [
       "                          count           mean  ...       75%       max\n",
       "age                       299.0      60.833893  ...      70.0      95.0\n",
       "anaemia                   299.0       0.431438  ...       1.0       1.0\n",
       "creatinine_phosphokinase  299.0     581.839465  ...     582.0    7861.0\n",
       "diabetes                  299.0       0.418060  ...       1.0       1.0\n",
       "ejection_fraction         299.0      38.083612  ...      45.0      80.0\n",
       "high_blood_pressure       299.0       0.351171  ...       1.0       1.0\n",
       "platelets                 299.0  263358.029264  ...  303500.0  850000.0\n",
       "serum_creatinine          299.0       1.393880  ...       1.4       9.4\n",
       "serum_sodium              299.0     136.625418  ...     140.0     148.0\n",
       "sex                       299.0       0.648829  ...       1.0       1.0\n",
       "smoking                   299.0       0.321070  ...       1.0       1.0\n",
       "time                      299.0     130.260870  ...     203.0     285.0\n",
       "DEATH_EVENT               299.0       0.321070  ...       1.0       1.0\n",
       "\n",
       "[13 rows x 8 columns]"
      ]
     },
     "execution_count": 6,
     "metadata": {},
     "output_type": "execute_result"
    }
   ],
   "source": [
    "df.describe().T"
   ]
  },
  {
   "cell_type": "code",
   "execution_count": null,
   "metadata": {
    "id": "3gz5wHgbljsQ"
   },
   "outputs": [],
   "source": [
    "df.drop('time', axis = 1, inplace=True)"
   ]
  },
  {
   "cell_type": "code",
   "execution_count": null,
   "metadata": {
    "id": "FI9QjqCbljsS"
   },
   "outputs": [],
   "source": [
    "# function to create labeled barplots\n",
    "def labeled_barplot(data, feature, perc=False, n=None, HUE=None):\n",
    "    \"\"\"\n",
    "    Barplot with percentage at the top\n",
    "\n",
    "    data: dataframe\n",
    "    feature: dataframe column\n",
    "    perc: whether to display percentages instead of count (default is False)\n",
    "    n: displays the top n category levels (default is None, i.e., display all levels)\n",
    "    \"\"\"\n",
    "\n",
    "    total = len(data[feature])  # length of the column\n",
    "    count = data[feature].nunique()\n",
    "    if n is None:\n",
    "        plt.figure(figsize=(count + 10, 6))\n",
    "    else:\n",
    "        plt.figure(figsize=(n + 10, 6))\n",
    "\n",
    "    plt.xticks(rotation=90, fontsize=15)\n",
    "    ax = sns.countplot(\n",
    "        data=data,\n",
    "        x=feature,\n",
    "        hue=HUE,\n",
    "        palette=\"Set2\",\n",
    "        order=data[feature].value_counts().index[:n].sort_values(),\n",
    "    )\n",
    "\n",
    "    for p in ax.patches:\n",
    "        if perc == True:\n",
    "            label = \"{:.1f}%\".format(\n",
    "                100 * p.get_height() / total\n",
    "            )  # percentage of each class of the category\n",
    "        else:\n",
    "            label = p.get_height()  # count of each level of the category\n",
    "\n",
    "        x = p.get_x() + p.get_width() / 2  # width of the plot\n",
    "        y = p.get_height()  # height of the plot\n",
    "\n",
    "        ax.annotate(\n",
    "            label,\n",
    "            (x, y),\n",
    "            ha=\"center\",\n",
    "            va=\"center\",\n",
    "            size=12,\n",
    "            xytext=(0, 5),\n",
    "            textcoords=\"offset points\",\n",
    "        )  # annotate the percentage\n",
    "\n",
    "    plt.show()  # show the plot"
   ]
  },
  {
   "cell_type": "code",
   "execution_count": null,
   "metadata": {
    "colab": {
     "base_uri": "https://localhost:8080/",
     "height": 388
    },
    "id": "xXYdWicEljsU",
    "outputId": "9197eeab-2ff5-4c18-f797-9d64177b0912",
    "scrolled": false
   },
   "outputs": [
    {
     "data": {
      "image/png": "[encoded data removed]",
      "text/plain": [
       "<Figure size 864x432 with 1 Axes>"
      ]
     },
     "metadata": {
      "needs_background": "light"
     },
     "output_type": "display_data"
    }
   ],
   "source": [
    "# checking distribution of target column\n",
    "labeled_barplot(df,'DEATH_EVENT', perc=True)"
   ]
  },
  {
   "cell_type": "code",
   "execution_count": null,
   "metadata": {
    "colab": {
     "base_uri": "https://localhost:8080/",
     "height": 335
    },
    "id": "lbGujHbgljsW",
    "outputId": "6d2b3939-70ad-41eb-944c-4d1632921d6d"
   },
   "outputs": [
    {
     "data": {
      "image/png": "[encoded data removed]",
      "text/plain": [
       "<Figure size 1080x360 with 1 Axes>"
      ]
     },
     "metadata": {
      "needs_background": "light"
     },
     "output_type": "display_data"
    }
   ],
   "source": [
    "plt.figure(figsize=(15,5))\n",
    "ax = sns.scatterplot(x='serum_creatinine', y='ejection_fraction', data=df, hue=\"DEATH_EVENT\", palette=['red','cyan'], s=90, marker=\"^\")\n",
    "handles, labels  =  ax.get_legend_handles_labels()\n",
    "ax.legend(handles, ['survived', 'dead'])\n",
    "plt.show()"
   ]
  },
  {
   "cell_type": "markdown",
   "metadata": {
    "id": "NsnbHWJB1z_P"
   },
   "source": [
    "## Distribution of numerical variables"
   ]
  },
  {
   "cell_type": "code",
   "execution_count": null,
   "metadata": {
    "colab": {
     "base_uri": "https://localhost:8080/",
     "height": 718
    },
    "id": "Q6wH6p4oljsb",
    "outputId": "7cf8f073-c541-434d-9bf4-a4b67dba1c2f"
   },
   "outputs": [
    {
     "data": {
      "image/png": "[encoded data removed]",
      "text/plain": [
       "<Figure size 1440x1080 with 12 Axes>"
      ]
     },
     "metadata": {
      "needs_background": "light"
     },
     "output_type": "display_data"
    }
   ],
   "source": [
    "df.hist(bins=40, figsize=(20,15))\n",
    "plt.show()"
   ]
  },
  {
   "cell_type": "code",
   "execution_count": null,
   "metadata": {
    "id": "zhtz05pLljsc"
   },
   "outputs": [],
   "source": []
  },
  {
   "cell_type": "markdown",
   "metadata": {
    "id": "fym6U_V-QBzL"
   },
   "source": [
    "#  Biostatistics Tests"
   ]
  },
  {
   "cell_type": "markdown",
   "metadata": {
    "id": "mW67e3Veljsd"
   },
   "source": [
    "###  Pearson correlation coefficients (PCC)"
   ]
  },
  {
   "cell_type": "code",
   "execution_count": null,
   "metadata": {
    "colab": {
     "base_uri": "https://localhost:8080/"
    },
    "id": "hpTAaZ73ljsd",
    "outputId": "13fcb067-230c-4833-d20a-1b0a2e77e187"
   },
   "outputs": [
    {
     "name": "stdout",
     "output_type": "stream",
     "text": [
      "+----+--------------------------+------------+\n",
      "|    | feature                  |   abs(PCC) |\n",
      "|----+--------------------------+------------|\n",
      "|  0 | serum_creatinine         | 0.294278   |\n",
      "|  1 | ejection_fraction        | 0.268603   |\n",
      "|  2 | age                      | 0.253729   |\n",
      "|  3 | serum_sodium             | 0.195204   |\n",
      "|  4 | high_blood_pressure      | 0.0793511  |\n",
      "|  5 | anaemia                  | 0.0662701  |\n",
      "|  6 | creatinine_phosphokinase | 0.0627282  |\n",
      "|  7 | platelets                | 0.0491389  |\n",
      "|  8 | smoking                  | 0.0126232  |\n",
      "|  9 | sex                      | 0.00431638 |\n",
      "| 10 | diabetes                 | 0.00194288 |\n",
      "+----+--------------------------+------------+\n"
     ]
    }
   ],
   "source": [
    "PCC = abs(df.corr()['DEATH_EVENT'].values)\n",
    "dic = {\n",
    "    'feature' : df.corr()['DEATH_EVENT'].index,\n",
    "    'abs(PCC)' : PCC\n",
    "}\n",
    "pcc_df = pd.DataFrame(dic)[:-1].sort_values(by = 'abs(PCC)',ascending=False).reset_index()\n",
    "pcc_df = pcc_df.drop('index', axis=1)\n",
    "print(tabulate(pcc_df, headers = 'keys', tablefmt = 'psql'))"
   ]
  },
  {
   "cell_type": "markdown",
   "metadata": {
    "id": "FREJLIXNljse"
   },
   "source": [
    "###  Shapiro–Wilk tests"
   ]
  },
  {
   "cell_type": "code",
   "execution_count": null,
   "metadata": {
    "id": "emzJ0wkZljsf"
   },
   "outputs": [],
   "source": [
    "from scipy.stats import shapiro"
   ]
  },
  {
   "cell_type": "code",
   "execution_count": null,
   "metadata": {
    "id": "AnjMSuOGljsf"
   },
   "outputs": [],
   "source": [
    "shapiro_p = []\n",
    "for i in df.columns.tolist():\n",
    "    _, p = shapiro(df[[i]])\n",
    "    shapiro_p.append(p)"
   ]
  },
  {
   "cell_type": "code",
   "execution_count": null,
   "metadata": {
    "colab": {
     "base_uri": "https://localhost:8080/"
    },
    "id": "p6U1yESbljsg",
    "outputId": "317eda68-e894-402f-8c97-0a20efc36f4a"
   },
   "outputs": [
    {
     "name": "stdout",
     "output_type": "stream",
     "text": [
      "+----+--------------------------+-------------+\n",
      "|    | feature                  |     p-value |\n",
      "|----+--------------------------+-------------|\n",
      "|  0 | creatinine_phosphokinase | 7.05034e-28 |\n",
      "|  1 | serum_creatinine         | 5.39276e-27 |\n",
      "|  2 | smoking                  | 4.58184e-26 |\n",
      "|  3 | sex                      | 1.1685e-25  |\n",
      "|  4 | high_blood_pressure      | 1.16862e-25 |\n",
      "|  5 | diabetes                 | 5.11552e-25 |\n",
      "|  6 | anaemia                  | 6.20996e-25 |\n",
      "|  7 | platelets                | 2.88374e-12 |\n",
      "|  8 | serum_sodium             | 9.21025e-10 |\n",
      "|  9 | ejection_fraction        | 7.21543e-09 |\n",
      "| 10 | age                      | 5.35057e-05 |\n",
      "+----+--------------------------+-------------+\n"
     ]
    }
   ],
   "source": [
    "dic = {\n",
    "    'feature' : df.columns.tolist(),\n",
    "    'p-value' : shapiro_p\n",
    "}\n",
    "shapiro_df = pd.DataFrame(dic)[:-1].sort_values(by = 'p-value',ascending=True).reset_index()\n",
    "\n",
    "shapiro_df = shapiro_df.drop('index', axis=1)\n",
    "print(tabulate(shapiro_df, headers = 'keys', tablefmt = 'psql'))"
   ]
  },
  {
   "cell_type": "markdown",
   "metadata": {
    "id": "W-Bv5Tbjljsh"
   },
   "source": [
    "###  Chi squared test"
   ]
  },
  {
   "cell_type": "code",
   "execution_count": null,
   "metadata": {
    "id": "WqZt0AqOljsi"
   },
   "outputs": [],
   "source": [
    "from scipy.stats import chi2_contingency\n",
    "chi_p = []\n",
    "for i in df.columns.tolist():\n",
    "    data = pd.crosstab(df[i], df['DEATH_EVENT'])\n",
    "    _, p, _, _ = chi2_contingency(data)\n",
    "    chi_p.append(round(p,6))"
   ]
  },
  {
   "cell_type": "code",
   "execution_count": null,
   "metadata": {
    "colab": {
     "base_uri": "https://localhost:8080/"
    },
    "id": "0WoO-Ha3ljsj",
    "outputId": "0e8c883b-6225-46ff-84ef-a4d23b495b8b"
   },
   "outputs": [
    {
     "name": "stdout",
     "output_type": "stream",
     "text": [
      "+----+--------------------------+-----------+\n",
      "|    | feature                  |   p-value |\n",
      "|----+--------------------------+-----------|\n",
      "|  0 | ejection_fraction        |  0        |\n",
      "|  1 | serum_creatinine         |  3e-06    |\n",
      "|  2 | serum_sodium             |  0.009601 |\n",
      "|  3 | age                      |  0.015227 |\n",
      "|  4 | high_blood_pressure      |  0.214103 |\n",
      "|  5 | anaemia                  |  0.307316 |\n",
      "|  6 | creatinine_phosphokinase |  0.431751 |\n",
      "|  7 | platelets                |  0.54827  |\n",
      "|  8 | diabetes                 |  0.926724 |\n",
      "|  9 | smoking                  |  0.931765 |\n",
      "| 10 | sex                      |  0.956051 |\n",
      "+----+--------------------------+-----------+\n"
     ]
    }
   ],
   "source": [
    "dic = {\n",
    "    'feature' : df.columns.tolist(),\n",
    "    'p-value' : chi_p\n",
    "}\n",
    "chi_df = pd.DataFrame(dic)[:-1].sort_values(by = 'p-value').reset_index()\n",
    "chi_df = chi_df.drop('index', axis=1)\n",
    "print(tabulate(chi_df, headers = 'keys', tablefmt = 'psql'))"
   ]
  },
  {
   "cell_type": "markdown",
   "metadata": {
    "id": "ag3yxf16ljsk"
   },
   "source": [
    "###   Mann–Whitney U test"
   ]
  },
  {
   "cell_type": "code",
   "execution_count": null,
   "metadata": {
    "id": "wp_xUYQXljsl"
   },
   "outputs": [],
   "source": [
    "import scipy.stats as stats\n",
    "mann_p = []\n",
    "for i in df.columns.tolist():\n",
    "    _, p = stats.mannwhitneyu(x=df[i], y=df['DEATH_EVENT'])\n",
    "    mann_p.append(round(p,7))"
   ]
  },
  {
   "cell_type": "code",
   "execution_count": null,
   "metadata": {
    "colab": {
     "base_uri": "https://localhost:8080/"
    },
    "id": "0tNgCwN2ljsm",
    "outputId": "c761081c-589a-4bd4-c08e-9386b161023c"
   },
   "outputs": [
    {
     "name": "stdout",
     "output_type": "stream",
     "text": [
      "+----+--------------------------+-----------+\n",
      "|    | feature                  |   p-value |\n",
      "|----+--------------------------+-----------|\n",
      "|  0 | age                      | 0         |\n",
      "|  1 | creatinine_phosphokinase | 0         |\n",
      "|  2 | ejection_fraction        | 0         |\n",
      "|  3 | platelets                | 0         |\n",
      "|  4 | serum_creatinine         | 0         |\n",
      "|  5 | serum_sodium             | 0         |\n",
      "|  6 | sex                      | 0         |\n",
      "|  7 | anaemia                  | 0.002693  |\n",
      "|  8 | diabetes                 | 0.0070535 |\n",
      "|  9 | high_blood_pressure      | 0.218234  |\n",
      "| 10 | smoking                  | 0.499883  |\n",
      "+----+--------------------------+-----------+\n"
     ]
    }
   ],
   "source": [
    "dic = {\n",
    "    'feature' : df.columns.tolist(),\n",
    "    'p-value' : mann_p\n",
    "}\n",
    "mann_df = pd.DataFrame(dic)[:-1].sort_values(by = 'p-value').reset_index()\n",
    "mann_df = mann_df.drop('index', axis=1)\n",
    "print(tabulate(mann_df, headers = 'keys', tablefmt = 'psql'))"
   ]
  },
  {
   "cell_type": "code",
   "execution_count": null,
   "metadata": {
    "colab": {
     "base_uri": "https://localhost:8080/"
    },
    "id": "A1gLPh6Iljsm",
    "outputId": "10412970-a198-4e63-f84b-95efeca3fea2"
   },
   "outputs": [
    {
     "name": "stdout",
     "output_type": "stream",
     "text": [
      "Requirement already satisfied: mlxtend in /usr/local/lib/python3.7/dist-packages (0.19.0)\n",
      "Requirement already satisfied: setuptools in /usr/local/lib/python3.7/dist-packages (from mlxtend) (57.4.0)\n",
      "Requirement already satisfied: pandas>=0.24.2 in /usr/local/lib/python3.7/dist-packages (from mlxtend) (1.1.5)\n",
      "Requirement already satisfied: scipy>=1.2.1 in /usr/local/lib/python3.7/dist-packages (from mlxtend) (1.4.1)\n",
      "Requirement already satisfied: joblib>=0.13.2 in /usr/local/lib/python3.7/dist-packages (from mlxtend) (1.0.1)\n",
      "Requirement already satisfied: scikit-learn>=0.20.3 in /usr/local/lib/python3.7/dist-packages (from mlxtend) (0.22.2.post1)\n",
      "Requirement already satisfied: matplotlib>=3.0.0 in /usr/local/lib/python3.7/dist-packages (from mlxtend) (3.2.2)\n",
      "Requirement already satisfied: numpy>=1.16.2 in /usr/local/lib/python3.7/dist-packages (from mlxtend) (1.19.5)\n",
      "Requirement already satisfied: kiwisolver>=1.0.1 in /usr/local/lib/python3.7/dist-packages (from matplotlib>=3.0.0->mlxtend) (1.3.2)\n",
      "Requirement already satisfied: pyparsing!=2.0.4,!=2.1.2,!=2.1.6,>=2.0.1 in /usr/local/lib/python3.7/dist-packages (from matplotlib>=3.0.0->mlxtend) (2.4.7)\n",
      "Requirement already satisfied: python-dateutil>=2.1 in /usr/local/lib/python3.7/dist-packages (from matplotlib>=3.0.0->mlxtend) (2.8.2)\n",
      "Requirement already satisfied: cycler>=0.10 in /usr/local/lib/python3.7/dist-packages (from matplotlib>=3.0.0->mlxtend) (0.10.0)\n",
      "Requirement already satisfied: six in /usr/local/lib/python3.7/dist-packages (from cycler>=0.10->matplotlib>=3.0.0->mlxtend) (1.15.0)\n",
      "Requirement already satisfied: pytz>=2017.2 in /usr/local/lib/python3.7/dist-packages (from pandas>=0.24.2->mlxtend) (2018.9)\n",
      "Requirement already satisfied: xgboost in /usr/local/lib/python3.7/dist-packages (1.4.2)\n",
      "Requirement already satisfied: numpy in /usr/local/lib/python3.7/dist-packages (from xgboost) (1.19.5)\n",
      "Requirement already satisfied: scipy in /usr/local/lib/python3.7/dist-packages (from xgboost) (1.4.1)\n"
     ]
    }
   ],
   "source": [
    "!pip install mlxtend\n",
    "# !pip install mlxtend --upgrade\n",
    "!pip install --upgrade xgboost"
   ]
  },
  {
   "cell_type": "code",
   "execution_count": null,
   "metadata": {
    "id": "DP4BnmmMljsn"
   },
   "outputs": [],
   "source": [
    "import time\n",
    "from sklearn.metrics import roc_auc_score, auc,roc_curve\n",
    "from sklearn.metrics import precision_recall_curve\n",
    "from sklearn.metrics import matthews_corrcoef\n",
    "from sklearn.preprocessing import MinMaxScaler\n",
    "\n",
    "# Import classifiers\n",
    "from sklearn.ensemble import RandomForestClassifier\n",
    "from sklearn.linear_model import LogisticRegression\n",
    "from sklearn.svm import SVC\n",
    "from sklearn.ensemble import StackingClassifier, RandomForestClassifier, GradientBoostingClassifier\n",
    "from sklearn.neural_network import MLPClassifier\n",
    "from sklearn.naive_bayes import GaussianNB\n",
    "from mlxtend.classifier import OneRClassifier\n",
    "from sklearn.tree import DecisionTreeClassifier\n",
    "from xgboost import XGBClassifier\n",
    "from sklearn.neighbors import KNeighborsClassifier\n",
    "\n",
    "from sklearn.ensemble import RandomForestClassifier\n",
    "from sklearn.linear_model import LogisticRegression\n",
    "from sklearn.svm import SVC\n",
    "from sklearn.ensemble import StackingClassifier\n",
    "from sklearn.neural_network import MLPClassifier\n",
    "from sklearn.naive_bayes import GaussianNB\n",
    "from sklearn.ensemble import AdaBoostClassifier\n",
    "\n",
    "from sklearn.tree import DecisionTreeClassifier\n",
    "from sklearn.ensemble import BaggingClassifier\n",
    "\n",
    "\n",
    "#import for preprocessing\n",
    "from sklearn.model_selection import train_test_split,GridSearchCV\n",
    "from sklearn.preprocessing import StandardScaler, LabelEncoder\n",
    "\n",
    "\n",
    "# import methods for measuring accuracy, precision, recall etc\n",
    "from sklearn.metrics import (\n",
    "    accuracy_score, \n",
    "    precision_score,\n",
    "    recall_score,\n",
    "    roc_auc_score,\n",
    "    f1_score,\n",
    "    confusion_matrix,\n",
    "    classification_report\n",
    ")"
   ]
  },
  {
   "cell_type": "markdown",
   "metadata": {
    "id": "OJKfB2BBljso"
   },
   "source": [
    "#   Building Models"
   ]
  },
  {
   "cell_type": "code",
   "execution_count": null,
   "metadata": {
    "id": "wLtgmmtoljsp"
   },
   "outputs": [],
   "source": [
    "# !pip install --upgrade xgboost"
   ]
  },
  {
   "cell_type": "code",
   "execution_count": null,
   "metadata": {
    "colab": {
     "base_uri": "https://localhost:8080/"
    },
    "id": "RKfPzrH4ljsp",
    "outputId": "7a5e4d23-8a25-445f-a693-a1a46aaf7e65"
   },
   "outputs": [
    {
     "name": "stdout",
     "output_type": "stream",
     "text": [
      "processing====================================================================================================done\n"
     ]
    }
   ],
   "source": [
    "acc1,acc2,acc3,acc4,acc5,acc6 = [],[],[],[],[],[]\n",
    "F1,F2,F3,F4,F5,F6 = [],[],[],[],[],[]\n",
    "roc_AUC1,roc_AUC2,roc_AUC3,roc_AUC4,roc_AUC5,roc_AUC6 = [],[],[],[],[],[]\n",
    "pr_AUC1,pr_AUC2,pr_AUC3,pr_AUC4,pr_AUC5,pr_AUC6 = [],[],[],[],[],[]\n",
    "TP_rate1,TP_rate2,TP_rate3,TP_rate4,TP_rate5,TP_rate6 = [],[],[],[],[],[]\n",
    "TN_rate1,TN_rate2,TN_rate3,TN_rate4,TN_rate5,TN_rate6 = [],[],[],[],[],[]\n",
    "MCC1,MCC2,MCC3,MCC4,MCC5,MCC6 = [],[],[],[],[],[]\n",
    "\n",
    "executations = 100\n",
    "print(\"processing\", end=\"\")\n",
    "for i in range(executations):\n",
    "    \n",
    "    # shuffle the rows\n",
    "    df = df.sample(frac=1)\n",
    "    \n",
    "    # splitting dataset into 80% for training and 20% for testing\n",
    "    training_size=int(len(df)*0.8)\n",
    "    test_size=len(df)-training_size\n",
    "    train_data=df[0:training_size]\n",
    "    test_data=df[training_size:]\n",
    "\n",
    "    X_train = train_data.iloc[:,:-1]\n",
    "    y_train = train_data.iloc[:,-1]\n",
    "    X_test = test_data.iloc[:,:-1]\n",
    "    y_test = test_data.iloc[:,-1] \n",
    "    \n",
    "    # applying random forest\n",
    "    model_rf = RandomForestClassifier()\n",
    "    model_rf.fit(X_train,y_train)\n",
    "    prediction_rf = model_rf.predict(X_test)\n",
    "    \n",
    "    acc1.append(accuracy_score(y_test, prediction_rf))\n",
    "    F1.append(f1_score(y_test, prediction_rf))\n",
    "    roc_AUC1.append(roc_auc_score(y_test, prediction_rf))\n",
    "    precision, recall, thresholds = precision_recall_curve(y_test, prediction_rf) # Compute Precision-Recall and plot curve\n",
    "    area = auc(recall, precision)\n",
    "    pr_AUC1.append(area)\n",
    "    TN, FP, FN, TP = confusion_matrix(y_test, prediction_rf).ravel()       \n",
    "    TPR = TP/(TP+FN) # Sensitivity, hit rate, recall, or true positive rate\n",
    "    TNR = TN/(TN+FP) # Specificity or true negative rate\n",
    "    TP_rate1.append(TPR)\n",
    "    TN_rate1.append(TNR)   \n",
    "    MCC1.append(matthews_corrcoef(y_test, prediction_rf))    \n",
    "    \n",
    "    # applying decision tree\n",
    "    model_dt = DecisionTreeClassifier()\n",
    "    model_dt.fit(X_train,y_train)\n",
    "    prediction_dt = model_dt.predict(X_test)\n",
    "    \n",
    "    acc2.append(accuracy_score(y_test, prediction_dt))\n",
    "    F2.append(f1_score(y_test, prediction_dt))\n",
    "    roc_AUC2.append(roc_auc_score(y_test, prediction_dt))\n",
    "    precision, recall, thresholds = precision_recall_curve(y_test, prediction_dt) # Compute Precision-Recall and plot curve\n",
    "    area = auc(recall, precision)\n",
    "    pr_AUC2.append(area)\n",
    "    TN, FP, FN, TP = confusion_matrix(y_test, prediction_dt).ravel()       \n",
    "    TPR = TP/(TP+FN) # Sensitivity, hit rate, recall, or true positive rate\n",
    "    TNR = TN/(TN+FP) # Specificity or true negative rate\n",
    "    TP_rate2.append(TPR)\n",
    "    TN_rate2.append(TNR)   \n",
    "    MCC2.append(matthews_corrcoef(y_test, prediction_dt))\n",
    "    \n",
    "    # applying gradient boosting\n",
    "    model_gb = XGBClassifier(eval_metric='mlogloss')\n",
    "    model_gb.fit(X_train.values,y_train.values)\n",
    "    prediction_gb = model_gb.predict(X_test.values)\n",
    "    \n",
    "    acc3.append(accuracy_score(y_test, prediction_gb))\n",
    "    F3.append(f1_score(y_test, prediction_gb))\n",
    "    roc_AUC3.append(roc_auc_score(y_test, prediction_gb))\n",
    "    precision, recall, thresholds = precision_recall_curve(y_test, prediction_gb) # Compute Precision-Recall and plot curve\n",
    "    area = auc(recall, precision)\n",
    "    pr_AUC3.append(area)\n",
    "    TN, FP, FN, TP = confusion_matrix(y_test, prediction_gb).ravel()       \n",
    "    TPR = TP/(TP+FN) # Sensitivity, hit rate, recall, or true positive rate\n",
    "    TNR = TN/(TN+FP) # Specificity or true negative rate\n",
    "    TP_rate3.append(TPR)\n",
    "    TN_rate3.append(TNR)   \n",
    "    MCC3.append(matthews_corrcoef(y_test, prediction_gb))\n",
    "    \n",
    "    # applying linear regression\n",
    "    model_lr = LogisticRegression()\n",
    "    model_lr.fit(X_train,y_train)\n",
    "    prediction_lr = model_lr.predict(X_test)\n",
    "    \n",
    "    acc4.append(accuracy_score(y_test, prediction_lr))\n",
    "    F4.append(f1_score(y_test, prediction_lr))\n",
    "    roc_AUC4.append(roc_auc_score(y_test, prediction_lr))\n",
    "    precision, recall, thresholds = precision_recall_curve(y_test, prediction_lr) # Compute Precision-Recall and plot curve\n",
    "    area = auc(recall, precision)\n",
    "    pr_AUC4.append(area)\n",
    "    TN, FP, FN, TP = confusion_matrix(y_test, prediction_lr).ravel()       \n",
    "    TPR = TP/(TP+FN) # Sensitivity, hit rate, recall, or true positive rate\n",
    "    TNR = TN/(TN+FP) # Specificity or true negative rate\n",
    "    TP_rate4.append(TPR)\n",
    "    TN_rate4.append(TNR)   \n",
    "    MCC4.append(matthews_corrcoef(y_test, prediction_lr))\n",
    "    \n",
    "    # applying one rule\n",
    "    model_oner = OneRClassifier()\n",
    "    model_oner.fit(X_train.values,y_train.values)\n",
    "    prediction_oner = model_oner.predict(X_test.values)\n",
    "    \n",
    "    acc5.append(accuracy_score(y_test, prediction_oner))\n",
    "    F5.append(f1_score(y_test, prediction_oner))\n",
    "    roc_AUC5.append(roc_auc_score(y_test, prediction_oner))\n",
    "    precision, recall, thresholds = precision_recall_curve(y_test, prediction_oner) # Compute Precision-Recall and plot curve\n",
    "    area = auc(recall, precision)\n",
    "    pr_AUC5.append(area)\n",
    "    TN, FP, FN, TP = confusion_matrix(y_test, prediction_oner).ravel()       \n",
    "    TPR = TP/(TP+FN) # Sensitivity, hit rate, recall, or true positive rate\n",
    "    TNR = TN/(TN+FP) # Specificity or true negative rate\n",
    "    TP_rate5.append(TPR)\n",
    "    TN_rate5.append(TNR)   \n",
    "    MCC5.append(matthews_corrcoef(y_test, prediction_oner))\n",
    "    \n",
    "    # applying navie bayes\n",
    "    model_gnb = GaussianNB()\n",
    "    model_gnb.fit(X_train,y_train)\n",
    "    prediction_gnb = model_gnb.predict(X_test)\n",
    "    \n",
    "    acc6.append(accuracy_score(y_test, prediction_gnb))\n",
    "    F6.append(f1_score(y_test, prediction_gnb))\n",
    "    roc_AUC6.append(roc_auc_score(y_test, prediction_gnb))\n",
    "    precision, recall, thresholds = precision_recall_curve(y_test, prediction_gnb) # Compute Precision-Recall and plot curve\n",
    "    area = auc(recall, precision)\n",
    "    pr_AUC6.append(area)\n",
    "    TN, FP, FN, TP = confusion_matrix(y_test, prediction_gnb).ravel()       \n",
    "    TPR = TP/(TP+FN) # Sensitivity, hit rate, recall, or true positive rate\n",
    "    TNR = TN/(TN+FP) # Specificity or true negative rate\n",
    "    TP_rate6.append(TPR)\n",
    "    TN_rate6.append(TNR)   \n",
    "    MCC6.append(matthews_corrcoef(y_test, prediction_gnb))\n",
    "    \n",
    "    print(\"=\"*1, end=\"\")\n",
    "print(\"done\")    "
   ]
  },
  {
   "cell_type": "markdown",
   "metadata": {
    "id": "o5W0rUQ7ljsv"
   },
   "source": [
    "##   KNN - hyperparameters tuning"
   ]
  },
  {
   "cell_type": "code",
   "execution_count": null,
   "metadata": {
    "colab": {
     "base_uri": "https://localhost:8080/"
    },
    "id": "qbOLY_0qljsv",
    "outputId": "60ee2864-48cc-4706-8f65-d049b096b14a"
   },
   "outputs": [
    {
     "name": "stdout",
     "output_type": "stream",
     "text": [
      "for 1 execution : MCC=0.084, K=3\n",
      "for 2 execution : MCC=0.291, K=9\n",
      "for 3 execution : MCC=0.0, K=100\n",
      "for 4 execution : MCC=0.262, K=1\n",
      "for 5 execution : MCC=0.392, K=1\n",
      "for 6 execution : MCC=0.023, K=1\n",
      "for 7 execution : MCC=0.201, K=2\n",
      "for 8 execution : MCC=0.284, K=15\n",
      "for 9 execution : MCC=0.117, K=2\n",
      "for 10 execution : MCC=0.154, K=10\n",
      "for 11 execution : MCC=0.04, K=3\n",
      "for 12 execution : MCC=0.118, K=6\n",
      "for 13 execution : MCC=0.177, K=14\n",
      "for 14 execution : MCC=0.0, K=100\n",
      "for 15 execution : MCC=0.177, K=12\n",
      "for 16 execution : MCC=0.0, K=100\n",
      "for 17 execution : MCC=0.225, K=18\n",
      "for 18 execution : MCC=0.322, K=12\n",
      "for 19 execution : MCC=0.149, K=15\n",
      "for 20 execution : MCC=0.177, K=2\n",
      "for 21 execution : MCC=0.32, K=2\n",
      "for 22 execution : MCC=0.244, K=21\n",
      "for 23 execution : MCC=0.158, K=2\n",
      "for 24 execution : MCC=0.443, K=5\n",
      "for 25 execution : MCC=0.173, K=8\n",
      "for 26 execution : MCC=0.277, K=6\n",
      "for 27 execution : MCC=0.162, K=4\n",
      "for 28 execution : MCC=0.194, K=5\n",
      "for 29 execution : MCC=0.302, K=2\n",
      "for 30 execution : MCC=0.184, K=14\n",
      "for 31 execution : MCC=0.154, K=13\n",
      "for 32 execution : MCC=0.27, K=6\n",
      "for 33 execution : MCC=0.108, K=4\n",
      "for 34 execution : MCC=0.321, K=13\n",
      "for 35 execution : MCC=0.129, K=1\n",
      "for 36 execution : MCC=0.18, K=9\n",
      "for 37 execution : MCC=0.365, K=5\n",
      "for 38 execution : MCC=0.323, K=6\n",
      "for 39 execution : MCC=0.029, K=1\n",
      "for 40 execution : MCC=0.025, K=6\n",
      "for 41 execution : MCC=0.089, K=13\n",
      "for 42 execution : MCC=0.284, K=5\n",
      "for 43 execution : MCC=0.233, K=4\n",
      "for 44 execution : MCC=0.062, K=3\n",
      "for 45 execution : MCC=0.199, K=6\n",
      "for 46 execution : MCC=0.165, K=4\n",
      "for 47 execution : MCC=0.187, K=5\n",
      "for 48 execution : MCC=0.177, K=23\n",
      "for 49 execution : MCC=0.117, K=6\n",
      "for 50 execution : MCC=0.22, K=9\n",
      "for 51 execution : MCC=0.325, K=1\n",
      "for 52 execution : MCC=0.125, K=11\n",
      "for 53 execution : MCC=0.295, K=23\n",
      "for 54 execution : MCC=0.177, K=13\n",
      "for 55 execution : MCC=0.351, K=9\n",
      "for 56 execution : MCC=0.284, K=2\n",
      "for 57 execution : MCC=0.025, K=4\n",
      "for 58 execution : MCC=0.38, K=21\n",
      "for 59 execution : MCC=0.131, K=5\n",
      "for 60 execution : MCC=0.0, K=100\n",
      "for 61 execution : MCC=0.279, K=1\n",
      "for 62 execution : MCC=0.159, K=9\n",
      "for 63 execution : MCC=0.173, K=3\n",
      "for 64 execution : MCC=0.173, K=6\n",
      "for 65 execution : MCC=0.202, K=6\n",
      "for 66 execution : MCC=0.284, K=2\n",
      "for 67 execution : MCC=0.169, K=4\n",
      "for 68 execution : MCC=0.171, K=4\n",
      "for 69 execution : MCC=0.0, K=100\n",
      "for 70 execution : MCC=0.293, K=5\n",
      "for 71 execution : MCC=0.277, K=2\n",
      "for 72 execution : MCC=0.15, K=7\n",
      "for 73 execution : MCC=0.199, K=23\n",
      "for 74 execution : MCC=0.297, K=5\n",
      "for 75 execution : MCC=0.284, K=9\n",
      "for 76 execution : MCC=0.089, K=6\n",
      "for 77 execution : MCC=0.308, K=6\n",
      "for 78 execution : MCC=0.0, K=100\n",
      "for 79 execution : MCC=0.329, K=7\n",
      "for 80 execution : MCC=0.364, K=9\n",
      "for 81 execution : MCC=0.184, K=19\n",
      "for 82 execution : MCC=0.191, K=11\n",
      "for 83 execution : MCC=0.313, K=9\n",
      "for 84 execution : MCC=0.253, K=11\n",
      "for 85 execution : MCC=0.184, K=23\n",
      "for 86 execution : MCC=0.129, K=5\n",
      "for 87 execution : MCC=0.254, K=5\n",
      "for 88 execution : MCC=0.107, K=2\n",
      "for 89 execution : MCC=0.212, K=15\n",
      "for 90 execution : MCC=0.199, K=31\n",
      "for 91 execution : MCC=0.224, K=1\n",
      "for 92 execution : MCC=0.225, K=27\n",
      "for 93 execution : MCC=0.171, K=9\n",
      "for 94 execution : MCC=0.193, K=1\n",
      "for 95 execution : MCC=0.191, K=22\n",
      "for 96 execution : MCC=0.199, K=29\n",
      "for 97 execution : MCC=0.207, K=14\n",
      "for 98 execution : MCC=0.184, K=19\n",
      "for 99 execution : MCC=0.107, K=29\n",
      "for 100 execution : MCC=0.0, K=100\n",
      "done\n"
     ]
    }
   ],
   "source": [
    "executations = 100\n",
    "acc = []\n",
    "F1 = []\n",
    "roc_AUC = []\n",
    "pr_AUC = []\n",
    "TP_rate = []\n",
    "TN_rate = []\n",
    "MCC = []\n",
    "for i in range(executations):\n",
    "    # shuffle the rows\n",
    "    df = df.sample(frac=1)\n",
    "    # splitting dataset into 60% for training,20% for validation and 20% for testing\n",
    "    training_size=int(len(df)*0.6)\n",
    "    test_size=int(len(df)*0.2)+1\n",
    "    val_size=len(df)-training_size - test_size\n",
    "\n",
    "    train_data=df[0:training_size]\n",
    "    test_data=df[training_size:(training_size+test_size)]\n",
    "    val_data=df[(training_size+test_size):]\n",
    "\n",
    "    X_train = train_data.iloc[:,:-1]\n",
    "    y_train = train_data.iloc[:,-1]\n",
    "    X_test = test_data.iloc[:,:-1]\n",
    "    y_test = test_data.iloc[:,-1] \n",
    "    X_val = val_data.iloc[:,:-1]\n",
    "    y_val = val_data.iloc[:,-1]\n",
    "    \n",
    "    Kmax = 100\n",
    "    \n",
    "    mcc = []\n",
    "    for k in range(Kmax):\n",
    "        # applying KNN\n",
    "        model_knn = KNeighborsClassifier(n_neighbors = k+1)\n",
    "        model_knn.fit(X_train,y_train)\n",
    "        prediction_knn = model_knn.predict(X_val) # checking on validation data\n",
    "        mccoef_ = matthews_corrcoef(y_val, prediction_knn)\n",
    "        mcc.append((mccoef_,k+1))\n",
    "        \n",
    "        \n",
    "    bestK = max(mcc)[1] # best K in which highest MCC\n",
    "    print(f\"for {i+1} execution : MCC={round(max(mcc)[0],3)}, K={max(mcc)[1]}\")\n",
    "    \n",
    "    # applying KNN on best K value and checking on test data\n",
    "    model_knn = KNeighborsClassifier(n_neighbors = bestK)\n",
    "    model_knn.fit(X_train,y_train)\n",
    "    prediction = model_knn.predict(X_test)\n",
    "    \n",
    "    acc.append(accuracy_score(y_test, prediction))\n",
    "    F1.append(f1_score(y_test, prediction))\n",
    "    roc_AUC.append(roc_auc_score(y_test, prediction))\n",
    "    # Compute Precision-Recall and plot curve\n",
    "    precision, recall, thresholds = precision_recall_curve(y_test, prediction)\n",
    "    area = auc(recall, precision)\n",
    "    pr_AUC.append(area)\n",
    "    TN, FP, FN, TP = confusion_matrix(y_test, prediction).ravel()\n",
    "    # Sensitivity, hit rate, recall, or true positive rate\n",
    "    TPR = TP/(TP+FN)\n",
    "    # Specificity or true negative rate\n",
    "    TNR = TN/(TN+FP) \n",
    "    TP_rate.append(TPR)\n",
    "    TN_rate.append(TNR)   \n",
    "    MCC.append(matthews_corrcoef(y_test, prediction))\n",
    "print(\"done\")    \n",
    "KNN_results = [np.mean(MCC),np.mean(F1),np.mean(acc),np.mean(TP_rate),np.mean(TN_rate),np.mean(pr_AUC),np.mean(roc_AUC)]"
   ]
  },
  {
   "cell_type": "markdown",
   "metadata": {
    "id": "3lmQDFseljsw"
   },
   "source": [
    "##   SVM Linear - hyperparameters tuning"
   ]
  },
  {
   "cell_type": "code",
   "execution_count": null,
   "metadata": {
    "colab": {
     "base_uri": "https://localhost:8080/"
    },
    "id": "TTuj8nTsljsw",
    "outputId": "8e833bc4-438a-4e18-cec3-f43d3c1989d9"
   },
   "outputs": [
    {
     "name": "stdout",
     "output_type": "stream",
     "text": [
      "for 1 execution : MCC=0.055, C=10\n",
      "for 2 execution : MCC=0.509, C=10\n",
      "for 3 execution : MCC=0.177, C=10\n",
      "for 4 execution : MCC=0.184, C=1\n",
      "for 5 execution : MCC=0.091, C=10\n",
      "for 6 execution : MCC=0.115, C=0.001\n",
      "for 7 execution : MCC=0.212, C=1\n",
      "for 8 execution : MCC=0.184, C=1\n",
      "for 9 execution : MCC=0.0, C=1\n",
      "for 10 execution : MCC=0.169, C=1\n",
      "for 11 execution : MCC=0.008, C=1\n",
      "for 12 execution : MCC=0.253, C=1\n",
      "for 13 execution : MCC=0.184, C=0.01\n",
      "for 14 execution : MCC=0.066, C=10\n",
      "for 15 execution : MCC=0.216, C=0.1\n",
      "for 16 execution : MCC=0.248, C=0.1\n",
      "for 17 execution : MCC=0.184, C=1\n",
      "for 18 execution : MCC=0.073, C=0.001\n",
      "for 19 execution : MCC=0.066, C=10\n",
      "for 20 execution : MCC=0.165, C=1\n",
      "for 21 execution : MCC=0.117, C=1\n",
      "for 22 execution : MCC=0.073, C=1\n",
      "for 23 execution : MCC=0.149, C=10\n",
      "for 24 execution : MCC=0.199, C=10\n",
      "for 25 execution : MCC=0.105, C=0.1\n",
      "for 26 execution : MCC=0.284, C=10\n",
      "for 27 execution : MCC=0.184, C=10\n",
      "for 28 execution : MCC=0.234, C=10\n",
      "for 29 execution : MCC=0.169, C=0.001\n",
      "for 30 execution : MCC=0.058, C=10\n",
      "for 31 execution : MCC=0.045, C=10\n",
      "for 32 execution : MCC=-0.049, C=1\n",
      "for 33 execution : MCC=0.197, C=10\n",
      "for 34 execution : MCC=0.0, C=10\n",
      "for 35 execution : MCC=0.008, C=1\n",
      "for 36 execution : MCC=0.171, C=10\n",
      "for 37 execution : MCC=0.089, C=0.01\n",
      "for 38 execution : MCC=0.125, C=0.01\n",
      "for 39 execution : MCC=0.184, C=10\n",
      "for 40 execution : MCC=0.202, C=0.01\n",
      "for 41 execution : MCC=0.224, C=1\n",
      "for 42 execution : MCC=0.199, C=0.1\n",
      "for 43 execution : MCC=-0.082, C=0.01\n",
      "for 44 execution : MCC=0.044, C=10\n",
      "for 45 execution : MCC=0.249, C=1\n",
      "for 46 execution : MCC=0.236, C=1\n",
      "for 47 execution : MCC=0.177, C=0.001\n",
      "for 48 execution : MCC=0.263, C=1\n",
      "for 49 execution : MCC=0.262, C=10\n",
      "for 50 execution : MCC=0.117, C=1\n",
      "for 51 execution : MCC=0.089, C=0.1\n",
      "for 52 execution : MCC=0.021, C=0.01\n",
      "for 53 execution : MCC=0.008, C=10\n",
      "for 54 execution : MCC=0.225, C=10\n",
      "for 55 execution : MCC=0.243, C=0.01\n",
      "for 56 execution : MCC=0.165, C=10\n",
      "for 57 execution : MCC=-0.056, C=1\n",
      "for 58 execution : MCC=0.079, C=0.001\n",
      "for 59 execution : MCC=-0.031, C=10\n",
      "for 60 execution : MCC=0.107, C=1\n",
      "for 61 execution : MCC=0.0, C=10\n",
      "for 62 execution : MCC=0.184, C=0.001\n",
      "for 63 execution : MCC=0.213, C=10\n",
      "for 64 execution : MCC=0.094, C=1\n",
      "for 65 execution : MCC=0.251, C=10\n",
      "for 66 execution : MCC=0.208, C=0.01\n",
      "for 67 execution : MCC=0.192, C=10\n",
      "for 68 execution : MCC=0.0, C=1\n",
      "for 69 execution : MCC=0.224, C=1\n",
      "for 70 execution : MCC=0.213, C=0.1\n",
      "for 71 execution : MCC=0.37, C=0.001\n",
      "for 72 execution : MCC=0.191, C=0.1\n",
      "for 73 execution : MCC=0.05, C=0.01\n",
      "for 74 execution : MCC=0.277, C=10\n",
      "for 75 execution : MCC=0.116, C=1\n",
      "for 76 execution : MCC=0.191, C=10\n",
      "for 77 execution : MCC=0.208, C=0.01\n",
      "for 78 execution : MCC=0.302, C=0.01\n",
      "for 79 execution : MCC=0.0, C=1\n",
      "for 80 execution : MCC=0.184, C=10\n",
      "for 81 execution : MCC=0.081, C=0.1\n",
      "for 82 execution : MCC=0.0, C=10\n",
      "for 83 execution : MCC=0.273, C=0.01\n",
      "for 84 execution : MCC=0.212, C=10\n",
      "for 85 execution : MCC=0.128, C=1\n",
      "for 86 execution : MCC=0.216, C=10\n",
      "for 87 execution : MCC=0.273, C=0.01\n",
      "for 88 execution : MCC=0.243, C=10\n",
      "for 89 execution : MCC=0.206, C=1\n",
      "for 90 execution : MCC=0.262, C=10\n",
      "for 91 execution : MCC=0.199, C=1\n",
      "for 92 execution : MCC=0.212, C=1\n",
      "for 93 execution : MCC=0.0, C=10\n",
      "for 94 execution : MCC=0.253, C=0.001\n",
      "for 95 execution : MCC=-0.008, C=10\n",
      "for 96 execution : MCC=0.025, C=10\n",
      "for 97 execution : MCC=0.277, C=0.01\n",
      "for 98 execution : MCC=0.236, C=0.01\n",
      "for 99 execution : MCC=0.364, C=10\n",
      "for 100 execution : MCC=0.216, C=10\n",
      "done\n"
     ]
    }
   ],
   "source": [
    "executations = 100\n",
    "acc = []\n",
    "F1 = []\n",
    "roc_AUC = []\n",
    "pr_AUC = []\n",
    "TP_rate = []\n",
    "TN_rate = []\n",
    "MCC = []\n",
    "for i in range(executations):\n",
    "    # shuffle the rows\n",
    "    df = df.sample(frac=1)\n",
    "    # splitting dataset into 60% for training,20% for validation and 20% for testing\n",
    "    training_size=int(len(df)*0.6)\n",
    "    test_size=int(len(df)*0.2)+1\n",
    "    val_size=len(df)-training_size - test_size\n",
    "\n",
    "    train_data=df[0:training_size]\n",
    "    test_data=df[training_size:(training_size+test_size)]\n",
    "    val_data=df[(training_size+test_size):]\n",
    "\n",
    "    X_train = train_data.iloc[:,:-1]\n",
    "    y_train = train_data.iloc[:,-1]\n",
    "    X_test = test_data.iloc[:,:-1]\n",
    "    y_test = test_data.iloc[:,-1] \n",
    "    X_val = val_data.iloc[:,:-1]\n",
    "    y_val = val_data.iloc[:,-1]\n",
    "    \n",
    "    Kmax = 100\n",
    "    \n",
    "    c_val = [0.001, 0.01, 0.1, 1, 10]\n",
    "    mcc = []\n",
    "    for C in c_val:\n",
    "        # applying SVM linear\n",
    "        model = SVC(C = C, kernel='linear')\n",
    "        model.fit(X_train,y_train)\n",
    "        prediction_svmlinear = model.predict(X_val) # checking on validation data\n",
    "        mccoef_ = matthews_corrcoef(y_val, prediction_svmlinear)\n",
    "        mcc.append((mccoef_,C))\n",
    "        \n",
    "        \n",
    "    bestC = max(mcc)[1] # best C in which highest MCC\n",
    "    print(f\"for {i+1} execution : MCC={round(max(mcc)[0],3)}, C={max(mcc)[1]}\")\n",
    "    \n",
    "    # applying SVM linear on best C value and checking on test data\n",
    "    model = SVC(C = bestC, kernel='linear')\n",
    "    model.fit(X_train,y_train)\n",
    "    prediction = model.predict(X_test)\n",
    "    \n",
    "    acc.append(accuracy_score(y_test, prediction))\n",
    "    F1.append(f1_score(y_test, prediction))\n",
    "    roc_AUC.append(roc_auc_score(y_test, prediction))\n",
    "    # Compute Precision-Recall and plot curve\n",
    "    precision, recall, thresholds = precision_recall_curve(y_test, prediction)\n",
    "    area = auc(recall, precision)\n",
    "    pr_AUC.append(area)\n",
    "    TN, FP, FN, TP = confusion_matrix(y_test, prediction).ravel()\n",
    "    # Sensitivity, hit rate, recall, or true positive rate\n",
    "    TPR = TP/(TP+FN)\n",
    "    # Specificity or true negative rate\n",
    "    TNR = TN/(TN+FP) \n",
    "    TP_rate.append(TPR)\n",
    "    TN_rate.append(TNR)   \n",
    "    MCC.append(matthews_corrcoef(y_test, prediction))\n",
    "print(\"done\")    \n",
    "SVMlinear_results = [np.mean(MCC),np.mean(F1),np.mean(acc),np.mean(TP_rate),np.mean(TN_rate),np.mean(pr_AUC),np.mean(roc_AUC)]"
   ]
  },
  {
   "cell_type": "markdown",
   "metadata": {
    "id": "FyGEOmvtljsx"
   },
   "source": [
    "##   SVM Radial - hyperparameters tuning"
   ]
  },
  {
   "cell_type": "code",
   "execution_count": null,
   "metadata": {
    "colab": {
     "base_uri": "https://localhost:8080/"
    },
    "id": "J60OH6rvljsx",
    "outputId": "02f48244-5749-4597-8fbc-fad688618ffd"
   },
   "outputs": [
    {
     "name": "stdout",
     "output_type": "stream",
     "text": [
      "for 1 execution : MCC=0.0, C=10\n",
      "for 2 execution : MCC=0.0, C=10\n",
      "for 3 execution : MCC=0.0, C=10\n",
      "for 4 execution : MCC=0.0, C=10\n",
      "for 5 execution : MCC=0.0, C=10\n",
      "for 6 execution : MCC=0.0, C=10\n",
      "for 7 execution : MCC=0.0, C=10\n",
      "for 8 execution : MCC=0.0, C=1\n",
      "for 9 execution : MCC=0.0, C=10\n",
      "for 10 execution : MCC=0.0, C=10\n",
      "for 11 execution : MCC=0.0, C=10\n",
      "for 12 execution : MCC=0.0, C=10\n",
      "for 13 execution : MCC=0.0, C=10\n",
      "for 14 execution : MCC=0.0, C=10\n",
      "for 15 execution : MCC=0.0, C=10\n",
      "for 16 execution : MCC=0.0, C=10\n",
      "for 17 execution : MCC=0.0, C=10\n",
      "for 18 execution : MCC=0.0, C=10\n",
      "for 19 execution : MCC=0.0, C=10\n",
      "for 20 execution : MCC=0.0, C=1\n",
      "for 21 execution : MCC=0.0, C=1\n",
      "for 22 execution : MCC=0.0, C=10\n",
      "for 23 execution : MCC=0.025, C=10\n",
      "for 24 execution : MCC=0.0, C=10\n",
      "for 25 execution : MCC=0.0, C=1\n",
      "for 26 execution : MCC=0.0, C=10\n",
      "for 27 execution : MCC=0.0, C=10\n",
      "for 28 execution : MCC=0.0, C=10\n",
      "for 29 execution : MCC=0.0, C=1\n",
      "for 30 execution : MCC=0.0, C=10\n",
      "for 31 execution : MCC=0.0, C=10\n",
      "for 32 execution : MCC=0.0, C=1\n",
      "for 33 execution : MCC=0.0, C=1\n",
      "for 34 execution : MCC=0.0, C=10\n",
      "for 35 execution : MCC=0.0, C=10\n",
      "for 36 execution : MCC=0.195, C=10\n",
      "for 37 execution : MCC=0.0, C=10\n",
      "for 38 execution : MCC=0.0, C=10\n",
      "for 39 execution : MCC=0.0, C=10\n",
      "for 40 execution : MCC=0.216, C=10\n",
      "for 41 execution : MCC=0.0, C=10\n",
      "for 42 execution : MCC=0.0, C=10\n",
      "for 43 execution : MCC=0.0, C=1\n",
      "for 44 execution : MCC=0.0, C=10\n",
      "for 45 execution : MCC=0.0, C=10\n",
      "for 46 execution : MCC=0.0, C=10\n",
      "for 47 execution : MCC=0.0, C=10\n",
      "for 48 execution : MCC=0.0, C=10\n",
      "for 49 execution : MCC=0.0, C=1\n",
      "for 50 execution : MCC=0.0, C=10\n",
      "for 51 execution : MCC=0.0, C=10\n",
      "for 52 execution : MCC=0.0, C=10\n",
      "for 53 execution : MCC=0.0, C=10\n",
      "for 54 execution : MCC=0.0, C=10\n",
      "for 55 execution : MCC=0.0, C=10\n",
      "for 56 execution : MCC=0.0, C=1\n",
      "for 57 execution : MCC=0.0, C=10\n",
      "for 58 execution : MCC=0.0, C=10\n",
      "for 59 execution : MCC=0.0, C=10\n",
      "for 60 execution : MCC=0.0, C=10\n",
      "for 61 execution : MCC=0.0, C=10\n",
      "for 62 execution : MCC=0.0, C=10\n",
      "for 63 execution : MCC=0.0, C=10\n",
      "for 64 execution : MCC=0.0, C=10\n",
      "for 65 execution : MCC=0.0, C=10\n",
      "for 66 execution : MCC=0.0, C=10\n",
      "for 67 execution : MCC=0.0, C=10\n",
      "for 68 execution : MCC=0.0, C=10\n",
      "for 69 execution : MCC=0.0, C=1\n",
      "for 70 execution : MCC=0.0, C=10\n",
      "for 71 execution : MCC=0.0, C=10\n",
      "for 72 execution : MCC=0.0, C=10\n",
      "for 73 execution : MCC=0.0, C=10\n",
      "for 74 execution : MCC=0.0, C=10\n",
      "for 75 execution : MCC=0.0, C=10\n",
      "for 76 execution : MCC=0.0, C=10\n",
      "for 77 execution : MCC=0.0, C=10\n",
      "for 78 execution : MCC=0.0, C=10\n",
      "for 79 execution : MCC=0.0, C=10\n",
      "for 80 execution : MCC=0.216, C=10\n",
      "for 81 execution : MCC=0.051, C=10\n",
      "for 82 execution : MCC=0.0, C=10\n",
      "for 83 execution : MCC=0.0, C=10\n",
      "for 84 execution : MCC=0.0, C=10\n",
      "for 85 execution : MCC=0.0, C=10\n",
      "for 86 execution : MCC=0.0, C=1\n",
      "for 87 execution : MCC=0.0, C=10\n",
      "for 88 execution : MCC=0.0, C=10\n",
      "for 89 execution : MCC=0.0, C=10\n",
      "for 90 execution : MCC=0.0, C=10\n",
      "for 91 execution : MCC=0.0, C=1\n",
      "for 92 execution : MCC=0.0, C=10\n",
      "for 93 execution : MCC=0.0, C=10\n",
      "for 94 execution : MCC=0.0, C=10\n",
      "for 95 execution : MCC=0.0, C=10\n",
      "for 96 execution : MCC=0.0, C=10\n",
      "for 97 execution : MCC=0.0, C=10\n",
      "for 98 execution : MCC=0.0, C=10\n",
      "for 99 execution : MCC=0.0, C=10\n",
      "for 100 execution : MCC=0.0, C=1\n",
      "done\n"
     ]
    }
   ],
   "source": [
    "executations = 100\n",
    "acc = []\n",
    "F1 = []\n",
    "roc_AUC = []\n",
    "pr_AUC = []\n",
    "TP_rate = []\n",
    "TN_rate = []\n",
    "MCC = []\n",
    "for i in range(executations):\n",
    "    # shuffle the rows\n",
    "    df = df.sample(frac=1)\n",
    "    # splitting dataset into 60% for training,20% for validation and 20% for testing\n",
    "    training_size=int(len(df)*0.6)\n",
    "    test_size=int(len(df)*0.2)+1\n",
    "    val_size=len(df)-training_size - test_size\n",
    "\n",
    "    train_data=df[0:training_size]\n",
    "    test_data=df[training_size:(training_size+test_size)]\n",
    "    val_data=df[(training_size+test_size):]\n",
    "\n",
    "    X_train = train_data.iloc[:,:-1]\n",
    "    y_train = train_data.iloc[:,-1]\n",
    "    X_test = test_data.iloc[:,:-1]\n",
    "    y_test = test_data.iloc[:,-1] \n",
    "    X_val = val_data.iloc[:,:-1]\n",
    "    y_val = val_data.iloc[:,-1]\n",
    "    \n",
    "    Kmax = 100\n",
    "    \n",
    "    c_val = [0.001, 0.01, 0.1, 1, 10]\n",
    "    mcc = []\n",
    "    for C in c_val:\n",
    "        # applying SVM Radial\n",
    "        model = SVC(C = C, kernel='rbf')\n",
    "        model.fit(X_train,y_train)\n",
    "        prediction_svmrbf = model.predict(X_val) # checking on validation data\n",
    "        mccoef_ = matthews_corrcoef(y_val, prediction_svmrbf)\n",
    "        mcc.append((mccoef_,C))\n",
    "        \n",
    "        \n",
    "    bestC = max(mcc)[1] # best C in which highest MCC\n",
    "    print(f\"for {i+1} execution : MCC={round(max(mcc)[0],3)}, C={max(mcc)[1]}\")\n",
    "    \n",
    "    # applying SVM linear on best C value and checking on test data\n",
    "    model = SVC(C = bestC, kernel='rbf')\n",
    "    model.fit(X_train,y_train)\n",
    "    prediction = model.predict(X_test)\n",
    "    \n",
    "    acc.append(accuracy_score(y_test, prediction))\n",
    "    F1.append(f1_score(y_test, prediction))\n",
    "    roc_AUC.append(roc_auc_score(y_test, prediction))\n",
    "    # Compute Precision-Recall and plot curve\n",
    "    precision, recall, thresholds = precision_recall_curve(y_test, prediction)\n",
    "    area = auc(recall, precision)\n",
    "    pr_AUC.append(area)\n",
    "    TN, FP, FN, TP = confusion_matrix(y_test, prediction).ravel()\n",
    "    # Sensitivity, hit rate, recall, or true positive rate\n",
    "    TPR = TP/(TP+FN)\n",
    "    # Specificity or true negative rate\n",
    "    TNR = TN/(TN+FP) \n",
    "    TP_rate.append(TPR)\n",
    "    TN_rate.append(TNR)   \n",
    "    MCC.append(matthews_corrcoef(y_test, prediction))\n",
    "print(\"done\")    \n",
    "SVMradial_results = [np.mean(MCC),np.mean(F1),np.mean(acc),np.mean(TP_rate),np.mean(TN_rate),np.mean(pr_AUC),np.mean(roc_AUC)]"
   ]
  },
  {
   "cell_type": "markdown",
   "metadata": {
    "id": "ptldRn33ljsz"
   },
   "source": [
    "##   Neural Network - hyperparameters tuning"
   ]
  },
  {
   "cell_type": "code",
   "execution_count": null,
   "metadata": {
    "colab": {
     "base_uri": "https://localhost:8080/"
    },
    "id": "llVpD9F7ljsz",
    "outputId": "a3e57f18-2193-4acb-900c-bf557e592fb8"
   },
   "outputs": [
    {
     "name": "stdout",
     "output_type": "stream",
     "text": [
      "for 1 execution : MCC=0.117, hidden layer =90\n",
      "for 2 execution : MCC=0.293, hidden layer =58\n",
      "for 3 execution : MCC=0.253, hidden layer =26\n",
      "for 4 execution : MCC=0.082, hidden layer =98\n",
      "for 5 execution : MCC=0.189, hidden layer =73\n",
      "for 6 execution : MCC=0.088, hidden layer =20\n",
      "for 7 execution : MCC=0.184, hidden layer =97\n",
      "for 8 execution : MCC=0.131, hidden layer =68\n",
      "for 9 execution : MCC=0.162, hidden layer =17\n",
      "for 10 execution : MCC=0.207, hidden layer =93\n",
      "for 11 execution : MCC=0.199, hidden layer =18\n",
      "for 12 execution : MCC=0.177, hidden layer =79\n",
      "for 13 execution : MCC=0.177, hidden layer =6\n",
      "for 14 execution : MCC=0.191, hidden layer =58\n",
      "for 15 execution : MCC=0.225, hidden layer =77\n",
      "for 16 execution : MCC=0.051, hidden layer =44\n",
      "for 17 execution : MCC=0.131, hidden layer =42\n",
      "for 18 execution : MCC=0.229, hidden layer =73\n",
      "for 19 execution : MCC=0.207, hidden layer =80\n",
      "for 20 execution : MCC=0.247, hidden layer =9\n",
      "for 21 execution : MCC=0.082, hidden layer =32\n",
      "for 22 execution : MCC=0.171, hidden layer =23\n",
      "for 23 execution : MCC=0.199, hidden layer =100\n",
      "for 24 execution : MCC=0.184, hidden layer =63\n",
      "for 25 execution : MCC=0.227, hidden layer =98\n",
      "for 26 execution : MCC=0.134, hidden layer =64\n",
      "for 27 execution : MCC=0.191, hidden layer =71\n",
      "for 28 execution : MCC=0.248, hidden layer =27\n",
      "for 29 execution : MCC=0.199, hidden layer =37\n",
      "for 30 execution : MCC=0.082, hidden layer =76\n",
      "for 31 execution : MCC=0.313, hidden layer =42\n",
      "for 32 execution : MCC=0.284, hidden layer =51\n",
      "for 33 execution : MCC=0.085, hidden layer =30\n",
      "for 34 execution : MCC=0.168, hidden layer =9\n",
      "for 35 execution : MCC=0.263, hidden layer =7\n",
      "for 36 execution : MCC=0.184, hidden layer =20\n",
      "for 37 execution : MCC=0.191, hidden layer =99\n",
      "for 38 execution : MCC=0.098, hidden layer =100\n",
      "for 39 execution : MCC=0.14, hidden layer =97\n",
      "for 40 execution : MCC=0.175, hidden layer =18\n",
      "for 41 execution : MCC=0.102, hidden layer =19\n",
      "for 42 execution : MCC=0.207, hidden layer =15\n",
      "for 43 execution : MCC=0.105, hidden layer =35\n",
      "for 44 execution : MCC=0.203, hidden layer =83\n",
      "for 45 execution : MCC=0.098, hidden layer =19\n",
      "for 46 execution : MCC=0.207, hidden layer =79\n",
      "for 47 execution : MCC=0.118, hidden layer =29\n",
      "for 48 execution : MCC=0.184, hidden layer =32\n",
      "for 49 execution : MCC=0.263, hidden layer =21\n",
      "for 50 execution : MCC=0.171, hidden layer =46\n",
      "for 51 execution : MCC=0.199, hidden layer =3\n",
      "for 52 execution : MCC=0.035, hidden layer =34\n",
      "for 53 execution : MCC=0.207, hidden layer =96\n",
      "for 54 execution : MCC=0.184, hidden layer =85\n",
      "for 55 execution : MCC=0.313, hidden layer =100\n",
      "for 56 execution : MCC=0.103, hidden layer =46\n",
      "for 57 execution : MCC=0.273, hidden layer =7\n",
      "for 58 execution : MCC=0.191, hidden layer =74\n",
      "for 59 execution : MCC=0.195, hidden layer =92\n",
      "for 60 execution : MCC=0.263, hidden layer =14\n",
      "for 61 execution : MCC=0.152, hidden layer =16\n",
      "for 62 execution : MCC=0.096, hidden layer =74\n",
      "for 63 execution : MCC=0.19, hidden layer =7\n",
      "for 64 execution : MCC=0.191, hidden layer =73\n",
      "for 65 execution : MCC=0.139, hidden layer =4\n",
      "for 66 execution : MCC=0.165, hidden layer =86\n",
      "for 67 execution : MCC=0.191, hidden layer =80\n",
      "for 68 execution : MCC=0.075, hidden layer =30\n",
      "for 69 execution : MCC=0.22, hidden layer =32\n",
      "for 70 execution : MCC=0.268, hidden layer =97\n",
      "for 71 execution : MCC=0.278, hidden layer =63\n",
      "for 72 execution : MCC=0.257, hidden layer =21\n",
      "for 73 execution : MCC=0.118, hidden layer =14\n",
      "for 74 execution : MCC=0.045, hidden layer =26\n",
      "for 75 execution : MCC=0.198, hidden layer =8\n",
      "for 76 execution : MCC=0.184, hidden layer =82\n",
      "for 77 execution : MCC=0.144, hidden layer =77\n",
      "for 78 execution : MCC=0.199, hidden layer =95\n",
      "for 79 execution : MCC=0.207, hidden layer =70\n",
      "for 80 execution : MCC=0.309, hidden layer =85\n",
      "for 81 execution : MCC=0.184, hidden layer =96\n",
      "for 82 execution : MCC=0.172, hidden layer =22\n",
      "for 83 execution : MCC=0.289, hidden layer =8\n",
      "for 84 execution : MCC=0.089, hidden layer =64\n",
      "for 85 execution : MCC=0.311, hidden layer =76\n",
      "for 86 execution : MCC=0.106, hidden layer =98\n",
      "for 87 execution : MCC=0.069, hidden layer =47\n",
      "for 88 execution : MCC=0.273, hidden layer =92\n",
      "for 89 execution : MCC=0.136, hidden layer =70\n",
      "for 90 execution : MCC=0.207, hidden layer =80\n",
      "for 91 execution : MCC=0.184, hidden layer =61\n",
      "for 92 execution : MCC=0.096, hidden layer =17\n",
      "for 93 execution : MCC=0.224, hidden layer =37\n",
      "for 94 execution : MCC=0.0, hidden layer =100\n",
      "for 95 execution : MCC=0.308, hidden layer =70\n",
      "for 96 execution : MCC=0.349, hidden layer =51\n",
      "for 97 execution : MCC=0.191, hidden layer =98\n",
      "for 98 execution : MCC=0.178, hidden layer =15\n",
      "for 99 execution : MCC=0.184, hidden layer =100\n",
      "for 100 execution : MCC=0.171, hidden layer =77\n",
      "done\n"
     ]
    }
   ],
   "source": [
    "executations = 100\n",
    "acc = []\n",
    "F1 = []\n",
    "roc_AUC = []\n",
    "pr_AUC = []\n",
    "TP_rate = []\n",
    "TN_rate = []\n",
    "MCC = []\n",
    "for i in range(executations):\n",
    "    # shuffle the rows\n",
    "    df = df.sample(frac=1)\n",
    "    # splitting dataset into 60% for training,20% for validation and 20% for testing\n",
    "    training_size=int(len(df)*0.6)\n",
    "    test_size=int(len(df)*0.2)+1\n",
    "    val_size=len(df)-training_size - test_size\n",
    "\n",
    "    train_data=df[0:training_size]\n",
    "    test_data=df[training_size:(training_size+test_size)]\n",
    "    val_data=df[(training_size+test_size):]\n",
    "\n",
    "    X_train = train_data.iloc[:,:-1]\n",
    "    y_train = train_data.iloc[:,-1]\n",
    "    X_test = test_data.iloc[:,:-1]\n",
    "    y_test = test_data.iloc[:,-1] \n",
    "    X_val = val_data.iloc[:,:-1]\n",
    "    y_val = val_data.iloc[:,-1]\n",
    "    \n",
    "    hidden_layer = 100\n",
    "    hidden_units = 100\n",
    "    mcc = []\n",
    "    for hidden_layer in range(hidden_layer):\n",
    "        # applying MLP neural network\n",
    "        model = MLPClassifier(hidden_layer_sizes = (hidden_layer+1,100))\n",
    "        model.fit(X_train,y_train)\n",
    "        prediction = model.predict(X_val) # checking on validation data\n",
    "        mccoef_ = matthews_corrcoef(y_val, prediction)\n",
    "        mcc.append((mccoef_,hidden_layer+1))\n",
    "        \n",
    "        \n",
    "    bestHiddenLayerSize = max(mcc)[1] # best bestHiddenLayerSize in which highest MCC\n",
    "    print(f\"for {i+1} execution : MCC={round(max(mcc)[0],3)}, hidden layer ={max(mcc)[1]}\")\n",
    "    \n",
    "    # applying MLP on best K value and checking on test data\n",
    "    model = MLPClassifier(hidden_layer_sizes = (bestHiddenLayerSize,100))\n",
    "    model.fit(X_train,y_train)\n",
    "    prediction = model.predict(X_test)\n",
    "    \n",
    "    acc.append(accuracy_score(y_test, prediction))\n",
    "    F1.append(f1_score(y_test, prediction))\n",
    "    roc_AUC.append(roc_auc_score(y_test, prediction))\n",
    "    # Compute Precision-Recall and plot curve\n",
    "    precision, recall, thresholds = precision_recall_curve(y_test, prediction)\n",
    "    area = auc(recall, precision)\n",
    "    pr_AUC.append(area)\n",
    "    TN, FP, FN, TP = confusion_matrix(y_test, prediction).ravel()\n",
    "    # Sensitivity, hit rate, recall, or true positive rate\n",
    "    TPR = TP/(TP+FN)\n",
    "    # Specificity or true negative rate\n",
    "    TNR = TN/(TN+FP) \n",
    "    TP_rate.append(TPR)\n",
    "    TN_rate.append(TNR)   \n",
    "    MCC.append(matthews_corrcoef(y_test, prediction))\n",
    "print(\"done\")    \n",
    "neural_network_results = [np.mean(MCC),np.mean(F1),np.mean(acc),np.mean(TP_rate),np.mean(TN_rate),np.mean(pr_AUC),np.mean(roc_AUC)]"
   ]
  },
  {
   "cell_type": "code",
   "execution_count": null,
   "metadata": {
    "colab": {
     "base_uri": "https://localhost:8080/"
    },
    "id": "S7ngPOUWljss",
    "outputId": "64411051-7298-417e-dea9-be811cff7cdb"
   },
   "outputs": [
    {
     "name": "stdout",
     "output_type": "stream",
     "text": [
      "+---------------------------+--------+------------+------------+-----------+-----------+----------+-----------+\n",
      "| Method                    |    MCC |   F1 score |   Accuracy |   TP rate |   TN rate |   PR AUC |   ROC AUC |\n",
      "|---------------------------+--------+------------+------------+-----------+-----------+----------+-----------|\n",
      "| Random Forests            |  0.361 |      0.521 |      0.737 |     0.467 |     0.865 |    0.628 |     0.666 |\n",
      "| Decision tree             |  0.258 |      0.483 |      0.678 |     0.485 |     0.77  |    0.574 |     0.628 |\n",
      "| Gradient boosting         |  0.343 |      0.525 |      0.723 |     0.5   |     0.829 |    0.619 |     0.664 |\n",
      "| Linear regression         |  0.337 |      0.457 |      0.738 |     0.365 |     0.912 |    0.615 |     0.638 |\n",
      "| One rule                  | -0.043 |      0.041 |      0.66  |     0.024 |     0.956 |    0.329 |     0.49  |\n",
      "| Naïve bayes               |  0.211 |      0.307 |      0.703 |     0.22  |     0.929 |    0.529 |     0.575 |\n",
      "| Artificial neural network | -0.001 |      0.156 |      0.563 |     0.321 |     0.679 |    0.629 |     0.5   |\n",
      "| SVM radial                | -0.009 |      0.002 |      0.673 |     0.001 |     0.996 |    0.62  |     0.498 |\n",
      "| SVM linear                |  0.083 |      0.124 |      0.675 |     0.076 |     0.963 |    0.477 |     0.519 |\n",
      "| k-nearest neighbors       | -0.027 |      0.106 |      0.63  |     0.085 |     0.895 |    0.394 |     0.49  |\n",
      "+---------------------------+--------+------------+------------+-----------+-----------+----------+-----------+\n"
     ]
    }
   ],
   "source": [
    "random_forest_results = [np.mean(MCC1),np.mean(F1),np.mean(acc1),np.mean(TP_rate1),np.mean(TN_rate1),np.mean(pr_AUC1),np.mean(roc_AUC1)]\n",
    "decision_trees_results = [np.mean(MCC2),np.mean(F2),np.mean(acc2),np.mean(TP_rate2),np.mean(TN_rate2),np.mean(pr_AUC2),np.mean(roc_AUC2)]\n",
    "gradient_boosting_results = [np.mean(MCC3),np.mean(F3),np.mean(acc3),np.mean(TP_rate3),np.mean(TN_rate3),np.mean(pr_AUC3),np.mean(roc_AUC3)]\n",
    "linear_regression_results = [np.mean(MCC4),np.mean(F4),np.mean(acc4),np.mean(TP_rate4),np.mean(TN_rate4),np.mean(pr_AUC4),np.mean(roc_AUC4)]\n",
    "one_rule_results = [np.mean(MCC5),np.mean(F5),np.mean(acc5),np.mean(TP_rate5),np.mean(TN_rate5),np.mean(pr_AUC5),np.mean(roc_AUC5)]\n",
    "GaussianNB_results = [np.mean(MCC6),np.mean(F6),np.mean(acc6),np.mean(TP_rate6),np.mean(TN_rate6),np.mean(pr_AUC6),np.mean(roc_AUC6)]\n",
    "\n",
    "models = [random_forest_results,decision_trees_results,gradient_boosting_results,linear_regression_results, one_rule_results,GaussianNB_results,neural_network_results,SVMradial_results,SVMlinear_results,KNN_results]\n",
    "acc = []\n",
    "F1 = []\n",
    "roc_AUC = []\n",
    "pr_AUC = []\n",
    "TP_rate = []\n",
    "TN_rate = []\n",
    "MCC = []\n",
    "for i in models:\n",
    "    MCC.append(round(i[0],3))\n",
    "    F1.append(round(i[1],3))    \n",
    "    acc.append(round(i[2],3))    \n",
    "    TP_rate.append(round(i[3],3))    \n",
    "    TN_rate.append(round(i[4],3))   \n",
    "    pr_AUC.append(round(i[5],3)) \n",
    "    roc_AUC.append(round(i[6],3))    \n",
    "\n",
    "# showing all models result\n",
    "dic = {\n",
    "    'Method':['Random Forests','Decision tree', 'Gradient boosting','Linear regression', 'One rule', 'Naïve bayes','Artificial neural network','SVM radial','SVM linear','k-nearest neighbors'],\n",
    "    'MCC' : MCC,\n",
    "    'F1 score' : F1,\n",
    "    'Accuracy' : acc,\n",
    "    'TP rate' : TP_rate,\n",
    "    'TN rate' : TN_rate,\n",
    "    'PR AUC' : pr_AUC,\n",
    "    'ROC AUC' : roc_AUC,\n",
    "    \n",
    "\n",
    "}\n",
    "metrics_df = pd.DataFrame(dic)\n",
    "\n",
    "metrics_df = metrics_df.set_index('Method')\n",
    "# displaying the DataFrame\n",
    "print(tabulate(metrics_df, headers = 'keys', tablefmt = 'psql'))\n",
    "   "
   ]
  },
  {
   "cell_type": "markdown",
   "metadata": {
    "id": "QDrrsMIP19kK"
   },
   "source": [
    "##   Random Forests Feature Selection"
   ]
  },
  {
   "cell_type": "code",
   "execution_count": null,
   "metadata": {
    "colab": {
     "base_uri": "https://localhost:8080/",
     "height": 340
    },
    "id": "QFmdNuOJljs0",
    "outputId": "c6d63cdb-24a1-41db-d905-6824af345671"
   },
   "outputs": [
    {
     "data": {
      "image/png": "[encoded data removed]",
      "text/plain": [
       "<Figure size 720x360 with 1 Axes>"
      ]
     },
     "metadata": {
      "needs_background": "light"
     },
     "output_type": "display_data"
    }
   ],
   "source": [
    "# extracting dependent and independent variables\n",
    "X = df.iloc[:,:-1]\n",
    "y = df.iloc[:,-1]\n",
    "\n",
    "X_train, X_test, y_train, y_test = train_test_split(X,y, test_size = 0.2, random_state = 42)\n",
    "\n",
    "# evaluating the model\n",
    "rf = RandomForestClassifier()\n",
    "rf.fit(X_train,y_train)\n",
    "\n",
    "# let’s sort the features, and plot graph\n",
    "plt.figure(figsize=(10,5))\n",
    "sorted_idx = rf.feature_importances_.argsort()\n",
    "plt.barh(df.columns[sorted_idx], rf.feature_importances_[sorted_idx])\n",
    "plt.title(\"Random Forest Feature Importance\", fontsize=18)\n",
    "plt.show()"
   ]
  },
  {
   "cell_type": "markdown",
   "metadata": {
    "id": "qxIDio1q4tAM"
   },
   "source": [
    "##        Survival prediction results on serum creatinine and ejection fraction – mean of 100 executions"
   ]
  },
  {
   "cell_type": "code",
   "execution_count": null,
   "metadata": {
    "colab": {
     "base_uri": "https://localhost:8080/"
    },
    "id": "PAWd5tzq12ra",
    "outputId": "fa3d3bfb-5c86-415c-a140-629c456b2f20"
   },
   "outputs": [
    {
     "name": "stdout",
     "output_type": "stream",
     "text": [
      "processing====================================================================================================done\n"
     ]
    }
   ],
   "source": [
    "acc1,acc3,acc4 = [],[],[]\n",
    "F1,F3,F4 = [],[],[]\n",
    "roc_AUC1,roc_AUC3,roc_AUC4 = [],[],[]\n",
    "pr_AUC1,pr_AUC3,pr_AUC4 = [],[],[]\n",
    "TP_rate1,TP_rate3,TP_rate4 = [],[],[]\n",
    "TN_rate1,TN_rate3,TN_rate4 = [],[],[]\n",
    "MCC1,MCC3,MCC4 = [],[],[]\n",
    "\n",
    "df_new = df[['ejection_fraction','serum_creatinine','DEATH_EVENT']]\n",
    "\n",
    "executations = 100\n",
    "print(\"processing\", end=\"\")\n",
    "for i in range(executations):\n",
    "    \n",
    "    # shuffle the rows\n",
    "    df = df_new.sample(frac=1)\n",
    "    \n",
    "    # splitting dataset into 80% for training and 20% for testing\n",
    "    training_size=int(len(df)*0.8)\n",
    "    test_size=len(df)-training_size\n",
    "    train_data=df[0:training_size]\n",
    "    test_data=df[training_size:]\n",
    "\n",
    "    X_train = train_data.iloc[:,:-1]\n",
    "    y_train = train_data.iloc[:,-1]\n",
    "    X_test = test_data.iloc[:,:-1]\n",
    "    y_test = test_data.iloc[:,-1] \n",
    "    \n",
    "    # applying random forest\n",
    "    model_rf = RandomForestClassifier()\n",
    "    model_rf.fit(X_train,y_train)\n",
    "    prediction_rf = model_rf.predict(X_test)\n",
    "    \n",
    "    acc1.append(accuracy_score(y_test, prediction_rf))\n",
    "    F1.append(f1_score(y_test, prediction_rf))\n",
    "    roc_AUC1.append(roc_auc_score(y_test, prediction_rf))\n",
    "    precision, recall, thresholds = precision_recall_curve(y_test, prediction_rf) # Compute Precision-Recall and plot curve\n",
    "    area = auc(recall, precision)\n",
    "    pr_AUC1.append(area)\n",
    "    TN, FP, FN, TP = confusion_matrix(y_test, prediction_rf).ravel()       \n",
    "    TPR = TP/(TP+FN) # Sensitivity, hit rate, recall, or true positive rate\n",
    "    TNR = TN/(TN+FP) # Specificity or true negative rate\n",
    "    TP_rate1.append(TPR)\n",
    "    TN_rate1.append(TNR)   \n",
    "    MCC1.append(matthews_corrcoef(y_test, prediction_rf))    \n",
    "    \n",
    "    # applying gradient boosting\n",
    "    model_gb = XGBClassifier(eval_metric='mlogloss')\n",
    "    model_gb.fit(X_train.values,y_train.values)\n",
    "    prediction_gb = model_gb.predict(X_test.values)\n",
    "    \n",
    "    acc3.append(accuracy_score(y_test, prediction_gb))\n",
    "    F3.append(f1_score(y_test, prediction_gb))\n",
    "    roc_AUC3.append(roc_auc_score(y_test, prediction_gb))\n",
    "    precision, recall, thresholds = precision_recall_curve(y_test, prediction_gb) # Compute Precision-Recall and plot curve\n",
    "    area = auc(recall, precision)\n",
    "    pr_AUC3.append(area)\n",
    "    TN, FP, FN, TP = confusion_matrix(y_test, prediction_gb).ravel()       \n",
    "    TPR = TP/(TP+FN) # Sensitivity, hit rate, recall, or true positive rate\n",
    "    TNR = TN/(TN+FP) # Specificity or true negative rate\n",
    "    TP_rate3.append(TPR)\n",
    "    TN_rate3.append(TNR)   \n",
    "    MCC3.append(matthews_corrcoef(y_test, prediction_gb))\n",
    "    \n",
    "    # applying SVM radial\n",
    "    model = SVC(kernel='rbf')\n",
    "    model.fit(X_train,y_train)\n",
    "    prediction = model.predict(X_test)\n",
    "    \n",
    "    acc4.append(accuracy_score(y_test, prediction))\n",
    "    F4.append(f1_score(y_test, prediction))\n",
    "    roc_AUC4.append(roc_auc_score(y_test, prediction))\n",
    "    precision, recall, thresholds = precision_recall_curve(y_test, prediction) # Compute Precision-Recall and plot curve\n",
    "    area = auc(recall, precision)\n",
    "    pr_AUC4.append(area)\n",
    "    TN, FP, FN, TP = confusion_matrix(y_test, prediction).ravel()       \n",
    "    TPR = TP/(TP+FN) # Sensitivity, hit rate, recall, or true positive rate\n",
    "    TNR = TN/(TN+FP) # Specificity or true negative rate\n",
    "    TP_rate4.append(TPR)\n",
    "    TN_rate4.append(TNR)   \n",
    "    MCC4.append(matthews_corrcoef(y_test, prediction))\n",
    "    \n",
    "    \n",
    "    \n",
    "    print(\"=\"*1, end=\"\")\n",
    "print(\"done\")    "
   ]
  },
  {
   "cell_type": "code",
   "execution_count": null,
   "metadata": {
    "colab": {
     "base_uri": "https://localhost:8080/"
    },
    "id": "x3_qHtCh4xye",
    "outputId": "7f62231f-5dc7-40b1-cd33-a3b1af6b909a"
   },
   "outputs": [
    {
     "name": "stdout",
     "output_type": "stream",
     "text": [
      "+-------------------+-------+------------+------------+-----------+-----------+----------+-----------+\n",
      "| Method            |   MCC |   F1 score |   Accuracy |   TP rate |   TN rate |   PR AUC |   ROC AUC |\n",
      "|-------------------+-------+------------+------------+-----------+-----------+----------+-----------|\n",
      "| Random Forests    | 0.405 |      0.582 |      0.742 |     0.584 |     0.818 |    0.658 |     0.701 |\n",
      "| Gradient boosting | 0.407 |      0.576 |      0.748 |     0.556 |     0.839 |    0.657 |     0.698 |\n",
      "| SVM radial        | 0.322 |      0.415 |      0.728 |     0.316 |     0.923 |    0.622 |     0.619 |\n",
      "+-------------------+-------+------------+------------+-----------+-----------+----------+-----------+\n"
     ]
    }
   ],
   "source": [
    "random_forest_results = [np.mean(MCC1),np.mean(F1),np.mean(acc1),np.mean(TP_rate1),np.mean(TN_rate1),np.mean(pr_AUC1),np.mean(roc_AUC1)]\n",
    "gradient_boosting_results = [np.mean(MCC3),np.mean(F3),np.mean(acc3),np.mean(TP_rate3),np.mean(TN_rate3),np.mean(pr_AUC3),np.mean(roc_AUC3)]\n",
    "SVMradial_results = [np.mean(MCC4),np.mean(F4),np.mean(acc4),np.mean(TP_rate4),np.mean(TN_rate4),np.mean(pr_AUC4),np.mean(roc_AUC4)]\n",
    "\n",
    "models = [random_forest_results,gradient_boosting_results, SVMradial_results]\n",
    "acc = []\n",
    "F1 = []\n",
    "roc_AUC = []\n",
    "pr_AUC = []\n",
    "TP_rate = []\n",
    "TN_rate = []\n",
    "MCC = []\n",
    "for i in models:\n",
    "    MCC.append(round(i[0],3))\n",
    "    F1.append(round(i[1],3))    \n",
    "    acc.append(round(i[2],3))    \n",
    "    TP_rate.append(round(i[3],3))    \n",
    "    TN_rate.append(round(i[4],3))   \n",
    "    pr_AUC.append(round(i[5],3)) \n",
    "    roc_AUC.append(round(i[6],3))    \n",
    "   \n",
    "\n",
    "# showing all models result\n",
    "dic = {\n",
    "    'Method':['Random Forests', 'Gradient boosting','SVM radial'],\n",
    "    'MCC' : MCC,\n",
    "    'F1 score' : F1,\n",
    "    'Accuracy' : acc,\n",
    "    'TP rate' : TP_rate,\n",
    "    'TN rate' : TN_rate,\n",
    "    'PR AUC' : pr_AUC,\n",
    "    'ROC AUC' : roc_AUC,\n",
    "    \n",
    "\n",
    "}\n",
    "metrics_df_2 = pd.DataFrame(dic)\n",
    "\n",
    "metrics_df_2 = metrics_df_2.set_index('Method')\n",
    "# displaying the DataFrame\n",
    "print(tabulate(metrics_df_2, headers = 'keys', tablefmt = 'psql'))"
   ]
  },
  {
   "cell_type": "markdown",
   "metadata": {
    "id": "6wuiv-y_8FpG"
   },
   "source": [
    "##        Survival prediction results including the follow-up time – mean of 100 executions"
   ]
  },
  {
   "cell_type": "code",
   "execution_count": null,
   "metadata": {
    "colab": {
     "base_uri": "https://localhost:8080/"
    },
    "id": "lpkAPqjQ4z2z",
    "outputId": "df1cc461-d603-4205-dad0-35db3639b819"
   },
   "outputs": [
    {
     "name": "stdout",
     "output_type": "stream",
     "text": [
      "processing====================================================================================================done\n",
      "processing====================================================================================================done\n"
     ]
    }
   ],
   "source": [
    "acc4,acc5 = [],[]\n",
    "F4,F5 = [],[]\n",
    "roc_AUC4,roc_AUC5 = [],[]\n",
    "pr_AUC4,pr_AUC5 = [],[]\n",
    "TP_rate4,TP_rate5 = [],[]\n",
    "TN_rate4,TN_rate5 = [],[]\n",
    "MCC4,MCC5 = [],[]\n",
    "\n",
    "# select 3 features for logistic regression\n",
    "df_ = df1[['ejection_fraction','serum_creatinine','time','DEATH_EVENT']]\n",
    "\n",
    "executations = 100\n",
    "print(\"processing\", end=\"\")\n",
    "for i in range(executations):\n",
    "    \n",
    "    # shuffle the rows\n",
    "    df = df_.sample(frac=1)\n",
    "    \n",
    "    # splitting dataset into 80% for training and 20% for testing\n",
    "    training_size=int(len(df)*0.8)\n",
    "    test_size=len(df)-training_size\n",
    "    train_data=df[0:training_size]\n",
    "    test_data=df[training_size:]\n",
    "\n",
    "    X_train = train_data.iloc[:,:-1]\n",
    "    y_train = train_data.iloc[:,-1]\n",
    "    X_test = test_data.iloc[:,:-1]\n",
    "    y_test = test_data.iloc[:,-1] \n",
    "    \n",
    "    # applying Logistic regression\n",
    "    model_lr = LogisticRegression()\n",
    "    model_lr.fit(X_train,y_train)\n",
    "    prediction_lr = model_lr.predict(X_test)\n",
    "    \n",
    "    acc4.append(accuracy_score(y_test, prediction_lr))\n",
    "    F4.append(f1_score(y_test, prediction_lr))\n",
    "    roc_AUC4.append(roc_auc_score(y_test, prediction_lr))\n",
    "    precision, recall, thresholds = precision_recall_curve(y_test, prediction_lr) # Compute Precision-Recall and plot curve\n",
    "    area = auc(recall, precision)\n",
    "    pr_AUC4.append(area)\n",
    "    TN, FP, FN, TP = confusion_matrix(y_test, prediction_lr).ravel()       \n",
    "    TPR = TP/(TP+FN) # Sensitivity, hit rate, recall, or true positive rate\n",
    "    TNR = TN/(TN+FP) # Specificity or true negative rate\n",
    "    TP_rate4.append(TPR)\n",
    "    TN_rate4.append(TNR)   \n",
    "    MCC4.append(matthews_corrcoef(y_test, prediction_lr))\n",
    "    \n",
    "    \n",
    "    print(\"=\"*1, end=\"\")\n",
    "print(\"done\")    \n",
    "##########################################################################################################################\n",
    "# select all features for logistic regression\n",
    "executations = 100\n",
    "print(\"processing\", end=\"\")\n",
    "for i in range(executations):\n",
    "    \n",
    "    # shuffle the rows\n",
    "    df = df1.sample(frac=1)\n",
    "    \n",
    "    # splitting dataset into 80% for training and 20% for testing\n",
    "    training_size=int(len(df)*0.8)\n",
    "    test_size=len(df)-training_size\n",
    "    train_data=df[0:training_size]\n",
    "    test_data=df[training_size:]\n",
    "\n",
    "    X_train = train_data.iloc[:,:-1]\n",
    "    y_train = train_data.iloc[:,-1]\n",
    "    X_test = test_data.iloc[:,:-1]\n",
    "    y_test = test_data.iloc[:,-1] \n",
    "    \n",
    "    # applying Logistic regression\n",
    "    model_lr = LogisticRegression()\n",
    "    model_lr.fit(X_train,y_train)\n",
    "    prediction_lr = model_lr.predict(X_test)\n",
    "    \n",
    "    acc5.append(accuracy_score(y_test, prediction_lr))\n",
    "    F5.append(f1_score(y_test, prediction_lr))\n",
    "    roc_AUC5.append(roc_auc_score(y_test, prediction_lr))\n",
    "    precision, recall, thresholds = precision_recall_curve(y_test, prediction_lr) # Compute Precision-Recall and plot curve\n",
    "    area = auc(recall, precision)\n",
    "    pr_AUC5.append(area)\n",
    "    TN, FP, FN, TP = confusion_matrix(y_test, prediction_lr).ravel()       \n",
    "    TPR = TP/(TP+FN) # Sensitivity, hit rate, recall, or true positive rate\n",
    "    TNR = TN/(TN+FP) # Specificity or true negative rate\n",
    "    TP_rate5.append(TPR)\n",
    "    TN_rate5.append(TNR)   \n",
    "    MCC5.append(matthews_corrcoef(y_test, prediction_lr))\n",
    "    \n",
    "    \n",
    "    print(\"=\"*1, end=\"\")\n",
    "print(\"done\")    "
   ]
  },
  {
   "cell_type": "code",
   "execution_count": null,
   "metadata": {
    "colab": {
     "base_uri": "https://localhost:8080/"
    },
    "id": "B9j4F5OX8M7O",
    "outputId": "e3b1caf1-dfc7-4048-e53c-85ab74cc7d7f"
   },
   "outputs": [
    {
     "name": "stdout",
     "output_type": "stream",
     "text": [
      "+------------------------------------+-------+------------+------------+-----------+-----------+----------+-----------+\n",
      "| Method                             |   MCC |   F1 score |   Accuracy |   TP rate |   TN rate |   PR AUC |   ROC AUC |\n",
      "|------------------------------------+-------+------------+------------+-----------+-----------+----------+-----------|\n",
      "| Logistic regression (EF, SR, & FU) | 0.59  |      0.703 |      0.825 |     0.66  |     0.906 |    0.769 |     0.783 |\n",
      "| Logistic regression (all features) | 0.564 |      0.679 |      0.817 |     0.634 |     0.904 |    0.751 |     0.769 |\n",
      "+------------------------------------+-------+------------+------------+-----------+-----------+----------+-----------+\n"
     ]
    }
   ],
   "source": [
    "lr_results_3 = [np.mean(MCC4),np.mean(F4),np.mean(acc4),np.mean(TP_rate4),np.mean(TN_rate4),np.mean(pr_AUC4),np.mean(roc_AUC4)]\n",
    "lr_results_all = [np.mean(MCC5),np.mean(F5),np.mean(acc5),np.mean(TP_rate5),np.mean(TN_rate5),np.mean(pr_AUC5),np.mean(roc_AUC5)]\n",
    "\n",
    "models = [lr_results_3,lr_results_all]\n",
    "acc = []\n",
    "F1 = []\n",
    "roc_AUC = []\n",
    "pr_AUC = []\n",
    "TP_rate = []\n",
    "TN_rate = []\n",
    "MCC = []\n",
    "for i in models:\n",
    "    MCC.append(round(i[0],3))\n",
    "    F1.append(round(i[1],3))    \n",
    "    acc.append(round(i[2],3))    \n",
    "    TP_rate.append(round(i[3],3))    \n",
    "    TN_rate.append(round(i[4],3))   \n",
    "    pr_AUC.append(round(i[5],3)) \n",
    "    roc_AUC.append(round(i[6],3))    \n",
    "   \n",
    "\n",
    "# showing all models result\n",
    "dic = {\n",
    "    'Method':['Logistic regression (EF, SR, & FU)', 'Logistic regression (all features)'],\n",
    "    'MCC' : MCC,\n",
    "    'F1 score' : F1,\n",
    "    'Accuracy' : acc,\n",
    "    'TP rate' : TP_rate,\n",
    "    'TN rate' : TN_rate,\n",
    "    'PR AUC' : pr_AUC,\n",
    "    'ROC AUC' : roc_AUC,\n",
    "    \n",
    "\n",
    "}\n",
    "metrics_df_lr = pd.DataFrame(dic)\n",
    "\n",
    "metrics_df_lr = metrics_df_lr.set_index('Method')\n",
    "# displaying the DataFrame\n",
    "print(tabulate(metrics_df_lr, headers = 'keys', tablefmt = 'psql'))"
   ]
  },
  {
   "cell_type": "code",
   "execution_count": null,
   "metadata": {
    "id": "cgbU-DBv8Pzv"
   },
   "outputs": [],
   "source": []
  },
  {
   "cell_type": "markdown",
   "metadata": {
    "id": "9jH8XQT5H852"
   },
   "source": [
    "#        Proposed Solution"
   ]
  },
  {
   "cell_type": "markdown",
   "metadata": {
    "id": "TRncv61MIEA0"
   },
   "source": [
    "##        Checking Multicollinearity"
   ]
  },
  {
   "cell_type": "markdown",
   "metadata": {
    "id": "9aOmCcxmILbL"
   },
   "source": [
    "We can identify which variables are affected by multicollinearity and the strength of the correlation. Fortunately, there is a very simple test to assess multicollinearity. The variance inflation factor (VIF) identifies correlation between independent variables and the strength of that correlation.\n",
    "\n",
    "Statistical software calculates a VIF for each independent variable. VIFs start at 1 and have no upper limit. A value of 1 indicates that there is no correlation between this independent variable and any others. VIFs between 1 and 5 suggest that there is a moderate correlation, but it is not severe enough to warrant corrective measures. VIFs greater than 5 represent critical levels of multicollinearity where the coefficients are poorly estimated, and the p-values are questionable."
   ]
  },
  {
   "cell_type": "code",
   "execution_count": null,
   "metadata": {
    "id": "1kMqRWNhIU_2"
   },
   "outputs": [],
   "source": [
    "# Import library for VIF\n",
    "from statsmodels.stats.outliers_influence import variance_inflation_factor\n",
    "\n",
    "def calc_vif(X):\n",
    "    # Calculating VIF\n",
    "    vif = pd.DataFrame()\n",
    "    vif[\"variables\"] = X.columns\n",
    "    vif[\"VIF\"] = [variance_inflation_factor(X.values, i) for i in range(X.shape[1])]\n",
    "    return vif"
   ]
  },
  {
   "cell_type": "code",
   "execution_count": null,
   "metadata": {
    "colab": {
     "base_uri": "https://localhost:8080/",
     "height": 457
    },
    "id": "U8CRl5gzIYnw",
    "outputId": "61974928-6972-4acd-9fcd-2d722480be3e"
   },
   "outputs": [
    {
     "data": {
      "text/html": [
       "<div>\n",
       "<style scoped>\n",
       "    .dataframe tbody tr th:only-of-type {\n",
       "        vertical-align: middle;\n",
       "    }\n",
       "\n",
       "    .dataframe tbody tr th {\n",
       "        vertical-align: top;\n",
       "    }\n",
       "\n",
       "    .dataframe thead th {\n",
       "        text-align: right;\n",
       "    }\n",
       "</style>\n",
       "<table border=\"1\" class=\"dataframe\">\n",
       "  <thead>\n",
       "    <tr style=\"text-align: right;\">\n",
       "      <th></th>\n",
       "      <th>variables</th>\n",
       "      <th>VIF</th>\n",
       "    </tr>\n",
       "  </thead>\n",
       "  <tbody>\n",
       "    <tr>\n",
       "      <th>0</th>\n",
       "      <td>age</td>\n",
       "      <td>30.400689</td>\n",
       "    </tr>\n",
       "    <tr>\n",
       "      <th>1</th>\n",
       "      <td>anaemia</td>\n",
       "      <td>1.910127</td>\n",
       "    </tr>\n",
       "    <tr>\n",
       "      <th>2</th>\n",
       "      <td>creatinine_phosphokinase</td>\n",
       "      <td>1.458680</td>\n",
       "    </tr>\n",
       "    <tr>\n",
       "      <th>3</th>\n",
       "      <td>diabetes</td>\n",
       "      <td>1.793319</td>\n",
       "    </tr>\n",
       "    <tr>\n",
       "      <th>4</th>\n",
       "      <td>ejection_fraction</td>\n",
       "      <td>13.355059</td>\n",
       "    </tr>\n",
       "    <tr>\n",
       "      <th>5</th>\n",
       "      <td>high_blood_pressure</td>\n",
       "      <td>1.646768</td>\n",
       "    </tr>\n",
       "    <tr>\n",
       "      <th>6</th>\n",
       "      <td>platelets</td>\n",
       "      <td>8.644291</td>\n",
       "    </tr>\n",
       "    <tr>\n",
       "      <th>7</th>\n",
       "      <td>serum_creatinine</td>\n",
       "      <td>3.132862</td>\n",
       "    </tr>\n",
       "    <tr>\n",
       "      <th>8</th>\n",
       "      <td>serum_sodium</td>\n",
       "      <td>61.551253</td>\n",
       "    </tr>\n",
       "    <tr>\n",
       "      <th>9</th>\n",
       "      <td>sex</td>\n",
       "      <td>3.810980</td>\n",
       "    </tr>\n",
       "    <tr>\n",
       "      <th>10</th>\n",
       "      <td>smoking</td>\n",
       "      <td>1.892839</td>\n",
       "    </tr>\n",
       "    <tr>\n",
       "      <th>11</th>\n",
       "      <td>time</td>\n",
       "      <td>5.657601</td>\n",
       "    </tr>\n",
       "    <tr>\n",
       "      <th>12</th>\n",
       "      <td>DEATH_EVENT</td>\n",
       "      <td>2.476163</td>\n",
       "    </tr>\n",
       "  </tbody>\n",
       "</table>\n",
       "</div>"
      ],
      "text/plain": [
       "                   variables        VIF\n",
       "0                        age  30.400689\n",
       "1                    anaemia   1.910127\n",
       "2   creatinine_phosphokinase   1.458680\n",
       "3                   diabetes   1.793319\n",
       "4          ejection_fraction  13.355059\n",
       "5        high_blood_pressure   1.646768\n",
       "6                  platelets   8.644291\n",
       "7           serum_creatinine   3.132862\n",
       "8               serum_sodium  61.551253\n",
       "9                        sex   3.810980\n",
       "10                   smoking   1.892839\n",
       "11                      time   5.657601\n",
       "12               DEATH_EVENT   2.476163"
      ]
     },
     "execution_count": 6,
     "metadata": {},
     "output_type": "execute_result"
    }
   ],
   "source": [
    "calc_vif(df1)"
   ]
  },
  {
   "cell_type": "code",
   "execution_count": null,
   "metadata": {
    "id": "NV1rM6ljIcv7"
   },
   "outputs": [],
   "source": [
    "# so, we will remove the age and serum_sodium variable becuase its showing high multicollinearity\n",
    "df1.drop(['age','serum_sodium'], axis = 1, inplace=True)"
   ]
  },
  {
   "cell_type": "code",
   "execution_count": null,
   "metadata": {
    "colab": {
     "base_uri": "https://localhost:8080/",
     "height": 394
    },
    "id": "LNoTyuiMIcmU",
    "outputId": "b3747444-1431-46cb-af52-6f31cc5c1368"
   },
   "outputs": [
    {
     "data": {
      "text/html": [
       "<div>\n",
       "<style scoped>\n",
       "    .dataframe tbody tr th:only-of-type {\n",
       "        vertical-align: middle;\n",
       "    }\n",
       "\n",
       "    .dataframe tbody tr th {\n",
       "        vertical-align: top;\n",
       "    }\n",
       "\n",
       "    .dataframe thead th {\n",
       "        text-align: right;\n",
       "    }\n",
       "</style>\n",
       "<table border=\"1\" class=\"dataframe\">\n",
       "  <thead>\n",
       "    <tr style=\"text-align: right;\">\n",
       "      <th></th>\n",
       "      <th>variables</th>\n",
       "      <th>VIF</th>\n",
       "    </tr>\n",
       "  </thead>\n",
       "  <tbody>\n",
       "    <tr>\n",
       "      <th>0</th>\n",
       "      <td>anaemia</td>\n",
       "      <td>1.797203</td>\n",
       "    </tr>\n",
       "    <tr>\n",
       "      <th>1</th>\n",
       "      <td>creatinine_phosphokinase</td>\n",
       "      <td>1.422024</td>\n",
       "    </tr>\n",
       "    <tr>\n",
       "      <th>2</th>\n",
       "      <td>diabetes</td>\n",
       "      <td>1.752614</td>\n",
       "    </tr>\n",
       "    <tr>\n",
       "      <th>3</th>\n",
       "      <td>ejection_fraction</td>\n",
       "      <td>7.914638</td>\n",
       "    </tr>\n",
       "    <tr>\n",
       "      <th>4</th>\n",
       "      <td>high_blood_pressure</td>\n",
       "      <td>1.572163</td>\n",
       "    </tr>\n",
       "    <tr>\n",
       "      <th>5</th>\n",
       "      <td>platelets</td>\n",
       "      <td>7.022870</td>\n",
       "    </tr>\n",
       "    <tr>\n",
       "      <th>6</th>\n",
       "      <td>serum_creatinine</td>\n",
       "      <td>3.051262</td>\n",
       "    </tr>\n",
       "    <tr>\n",
       "      <th>7</th>\n",
       "      <td>sex</td>\n",
       "      <td>3.292591</td>\n",
       "    </tr>\n",
       "    <tr>\n",
       "      <th>8</th>\n",
       "      <td>smoking</td>\n",
       "      <td>1.890115</td>\n",
       "    </tr>\n",
       "    <tr>\n",
       "      <th>9</th>\n",
       "      <td>time</td>\n",
       "      <td>4.163544</td>\n",
       "    </tr>\n",
       "    <tr>\n",
       "      <th>10</th>\n",
       "      <td>DEATH_EVENT</td>\n",
       "      <td>1.972514</td>\n",
       "    </tr>\n",
       "  </tbody>\n",
       "</table>\n",
       "</div>"
      ],
      "text/plain": [
       "                   variables       VIF\n",
       "0                    anaemia  1.797203\n",
       "1   creatinine_phosphokinase  1.422024\n",
       "2                   diabetes  1.752614\n",
       "3          ejection_fraction  7.914638\n",
       "4        high_blood_pressure  1.572163\n",
       "5                  platelets  7.022870\n",
       "6           serum_creatinine  3.051262\n",
       "7                        sex  3.292591\n",
       "8                    smoking  1.890115\n",
       "9                       time  4.163544\n",
       "10               DEATH_EVENT  1.972514"
      ]
     },
     "execution_count": 8,
     "metadata": {},
     "output_type": "execute_result"
    }
   ],
   "source": [
    "calc_vif(df1)"
   ]
  },
  {
   "cell_type": "markdown",
   "metadata": {
    "id": "lpPd2PVpIilo"
   },
   "source": [
    "So, we will choose the variables that we are get from VIF technique"
   ]
  },
  {
   "cell_type": "markdown",
   "metadata": {
    "id": "jwXoyB3tIELP"
   },
   "source": [
    "# Dealing with Imbalanced Data - Synthetic Minority Oversampling Technique (SMOTE) "
   ]
  },
  {
   "cell_type": "markdown",
   "metadata": {
    "id": "WVPJsc_UI2L7"
   },
   "source": [
    "Resampling data is one of the most commonly preferred approaches to deal with an imbalanced dataset. In most cases, oversampling is preferred over undersampling techniques. The reason being, in undersampling we tend to remove instances from data that may be carrying some important information."
   ]
  },
  {
   "cell_type": "code",
   "execution_count": null,
   "metadata": {
    "id": "mL1eSk6vIxxs"
   },
   "outputs": [],
   "source": [
    "from imblearn.over_sampling import SMOTE,RandomOverSampler"
   ]
  },
  {
   "cell_type": "code",
   "execution_count": null,
   "metadata": {
    "colab": {
     "base_uri": "https://localhost:8080/"
    },
    "id": "nzwHDSpaIx0w",
    "outputId": "3503021a-9f4a-49de-8d31-4bdc9c881f90"
   },
   "outputs": [
    {
     "name": "stdout",
     "output_type": "stream",
     "text": [
      "processing======================================================================done\n"
     ]
    }
   ],
   "source": [
    "acc1,acc3,acc4 = [],[],[]\n",
    "F1,F3,F4 = [],[],[]\n",
    "roc_AUC1,roc_AUC3,roc_AUC4 = [],[],[]\n",
    "pr_AUC1,pr_AUC3,pr_AUC4 = [],[],[]\n",
    "TP_rate1,TP_rate3,TP_rate4 = [],[],[]\n",
    "TN_rate1,TN_rate3,TN_rate4 = [],[],[]\n",
    "MCC1,MCC3,MCC4 = [],[],[]\n",
    "\n",
    "std_ = StandardScaler()  # create an object for standard scaling\n",
    "\n",
    "executations = 70\n",
    "print(\"processing\", end=\"\")\n",
    "for i in range(executations):\n",
    "    \n",
    "    # shuffle the rows\n",
    "    df = df1.sample(frac=1)\n",
    "    \n",
    "    X = df.iloc[:,:-1]\n",
    "    Y = df.iloc[:,-1]\n",
    "\n",
    "    #SMOTE apply for unbalanced data\n",
    "    smote = SMOTE(sampling_strategy='minority')\n",
    "    X_smote, Y_smote = smote.fit_sample(X,Y) \n",
    "    \n",
    "    # splitting dataset into 70% for training and 30% for testing\n",
    "    X_train, X_test, y_train, y_test = train_test_split(X_smote,Y_smote, test_size = 0.3, random_state = 0, shuffle=False,stratify=None) \n",
    "    \n",
    "    X_train= std_.fit_transform(X_train)  # standarize the data\n",
    "    X_test= std_.transform(X_test) \n",
    "    \n",
    "    # applying bagging\n",
    "    base_estimator = DecisionTreeClassifier()\n",
    "    model_rf = BaggingClassifier(base_estimator = base_estimator)\n",
    "    model_rf.fit(X_train,y_train)\n",
    "    prediction_rf = model_rf.predict(X_test)\n",
    "    \n",
    "    acc1.append(accuracy_score(y_test, prediction_rf))\n",
    "    F1.append(f1_score(y_test, prediction_rf))\n",
    "    roc_AUC1.append(roc_auc_score(y_test, prediction_rf))\n",
    "    precision, recall, thresholds = precision_recall_curve(y_test, prediction_rf) # Compute Precision-Recall and plot curve\n",
    "    area = auc(recall, precision)\n",
    "    pr_AUC1.append(area)\n",
    "    TN, FP, FN, TP = confusion_matrix(y_test, prediction_rf).ravel()       \n",
    "    TPR = TP/(TP+FN) # Sensitivity, hit rate, recall, or true positive rate\n",
    "    TNR = TN/(TN+FP) # Specificity or true negative rate\n",
    "    TP_rate1.append(TPR)\n",
    "    TN_rate1.append(TNR)   \n",
    "    MCC1.append(matthews_corrcoef(y_test, prediction_rf))    \n",
    "    \n",
    "    # applying boosting\n",
    "    base_estimator = DecisionTreeClassifier()\n",
    "    model_gb = AdaBoostClassifier(base_estimator = base_estimator)\n",
    "    model_gb.fit(X_train,y_train)\n",
    "    prediction_gb = model_gb.predict(X_test)\n",
    "    \n",
    "    acc3.append(accuracy_score(y_test, prediction_gb))\n",
    "    F3.append(f1_score(y_test, prediction_gb))\n",
    "    roc_AUC3.append(roc_auc_score(y_test, prediction_gb))\n",
    "    precision, recall, thresholds = precision_recall_curve(y_test, prediction_gb) # Compute Precision-Recall and plot curve\n",
    "    area = auc(recall, precision)\n",
    "    pr_AUC3.append(area)\n",
    "    TN, FP, FN, TP = confusion_matrix(y_test, prediction_gb).ravel()       \n",
    "    TPR = TP/(TP+FN) # Sensitivity, hit rate, recall, or true positive rate\n",
    "    TNR = TN/(TN+FP) # Specificity or true negative rate\n",
    "    TP_rate3.append(TPR)\n",
    "    TN_rate3.append(TNR)   \n",
    "    MCC3.append(matthews_corrcoef(y_test, prediction_gb))\n",
    "    \n",
    "    # applying stacking\n",
    "    # evaluating the model\n",
    "    base_estimator = [\n",
    "      ('rf', RandomForestClassifier())\n",
    "    ]\n",
    "    model = StackingClassifier(estimators=base_estimator, final_estimator=LogisticRegression())\n",
    "    model.fit(X_train,y_train)\n",
    "    prediction = model.predict(X_test)\n",
    "    \n",
    "    acc4.append(accuracy_score(y_test, prediction))\n",
    "    F4.append(f1_score(y_test, prediction))\n",
    "    roc_AUC4.append(roc_auc_score(y_test, prediction))\n",
    "    precision, recall, thresholds = precision_recall_curve(y_test, prediction) # Compute Precision-Recall and plot curve\n",
    "    area = auc(recall, precision)\n",
    "    pr_AUC4.append(area)\n",
    "    TN, FP, FN, TP = confusion_matrix(y_test, prediction).ravel()       \n",
    "    TPR = TP/(TP+FN) # Sensitivity, hit rate, recall, or true positive rate\n",
    "    TNR = TN/(TN+FP) # Specificity or true negative rate\n",
    "    TP_rate4.append(TPR)\n",
    "    TN_rate4.append(TNR)   \n",
    "    MCC4.append(matthews_corrcoef(y_test, prediction))\n",
    "    \n",
    "    \n",
    "    \n",
    "    print(\"=\"*1, end=\"\")\n",
    "print(\"done\")    "
   ]
  },
  {
   "cell_type": "code",
   "execution_count": null,
   "metadata": {
    "colab": {
     "base_uri": "https://localhost:8080/"
    },
    "id": "H8L_VuHeIx4h",
    "outputId": "76fc56be-c3ad-4b96-ab8b-e01ad56eec16"
   },
   "outputs": [
    {
     "name": "stdout",
     "output_type": "stream",
     "text": [
      "Results by using SMOTE technique for balance the data (mean 70 executions)\n",
      "+-----------------+-------+------------+------------+-----------+-----------+----------+-----------+\n",
      "| Method          |   MCC |   F1 score |   Accuracy |   TP rate |   TN rate |   PR AUC |   ROC AUC |\n",
      "|-----------------+-------+------------+------------+-----------+-----------+----------+-----------|\n",
      "| Bagging(SMOTE)  | 0.431 |      0.877 |      0.798 |     0.79  |     0.885 |    0.984 |     0.838 |\n",
      "| Boosting(SMOTE) | 0.437 |      0.894 |      0.824 |     0.823 |     0.834 |    0.983 |     0.829 |\n",
      "| Stacking(SMOTE) | 0.437 |      0.894 |      0.824 |     0.823 |     0.834 |    0.983 |     0.829 |\n",
      "+-----------------+-------+------------+------------+-----------+-----------+----------+-----------+\n"
     ]
    }
   ],
   "source": [
    "bagging_results = [np.mean(MCC1),np.mean(F1),np.mean(acc1),np.mean(TP_rate1),np.mean(TN_rate1),np.mean(pr_AUC1),np.mean(roc_AUC1)]\n",
    "boosting_results = [np.mean(MCC3),np.mean(F3),np.mean(acc3),np.mean(TP_rate3),np.mean(TN_rate3),np.mean(pr_AUC3),np.mean(roc_AUC3)]\n",
    "stacking_results = [np.mean(MCC4),np.mean(F4),np.mean(acc4),np.mean(TP_rate4),np.mean(TN_rate4),np.mean(pr_AUC4),np.mean(roc_AUC4)]\n",
    "\n",
    "models = [bagging_results,boosting_results, boosting_results]\n",
    "acc = []\n",
    "F1 = []\n",
    "roc_AUC = []\n",
    "pr_AUC = []\n",
    "TP_rate = []\n",
    "TN_rate = []\n",
    "MCC = []\n",
    "for i in models:\n",
    "    MCC.append(round(i[0],3))\n",
    "    F1.append(round(i[1],3))    \n",
    "    acc.append(round(i[2],3))    \n",
    "    TP_rate.append(round(i[3],3))    \n",
    "    TN_rate.append(round(i[4],3))   \n",
    "    pr_AUC.append(round(i[5],3)) \n",
    "    roc_AUC.append(round(i[6],3))    \n",
    "   \n",
    "\n",
    "# showing all models result\n",
    "dic = {\n",
    "    'Method':['Bagging(SMOTE)', 'Boosting(SMOTE)','Stacking(SMOTE)'],\n",
    "    'MCC' : MCC,\n",
    "    'F1 score' : F1,\n",
    "    'Accuracy' : acc,\n",
    "    'TP rate' : TP_rate,\n",
    "    'TN rate' : TN_rate,\n",
    "    'PR AUC' : pr_AUC,\n",
    "    'ROC AUC' : roc_AUC,\n",
    "    \n",
    "\n",
    "}\n",
    "metrics_df_3 = pd.DataFrame(dic)\n",
    "\n",
    "metrics_df_3 = metrics_df_3.set_index('Method')\n",
    "# displaying the DataFrame\n",
    "print(\"Results by using SMOTE technique for balance the data (mean 70 executions)\")\n",
    "print(tabulate(metrics_df_3, headers = 'keys', tablefmt = 'psql'))"
   ]
  },
  {
   "cell_type": "markdown",
   "metadata": {
    "id": "uVOjKAF_IEX3"
   },
   "source": [
    "#  Dealing with Imbalanced Data - RandomOverSampler "
   ]
  },
  {
   "cell_type": "code",
   "execution_count": null,
   "metadata": {
    "colab": {
     "base_uri": "https://localhost:8080/"
    },
    "id": "jgtzj-QHJKuU",
    "outputId": "ca213674-ded6-44a9-82a5-2010306c1509"
   },
   "outputs": [
    {
     "name": "stdout",
     "output_type": "stream",
     "text": [
      "processing======================================================================done\n"
     ]
    }
   ],
   "source": [
    "acc1,acc3,acc4 = [],[],[]\n",
    "F1,F3,F4 = [],[],[]\n",
    "roc_AUC1,roc_AUC3,roc_AUC4 = [],[],[]\n",
    "pr_AUC1,pr_AUC3,pr_AUC4 = [],[],[]\n",
    "TP_rate1,TP_rate3,TP_rate4 = [],[],[]\n",
    "TN_rate1,TN_rate3,TN_rate4 = [],[],[]\n",
    "MCC1,MCC3,MCC4 = [],[],[]\n",
    "\n",
    "std_ = StandardScaler()  # create an object for standard scaling\n",
    "\n",
    "executations = 70\n",
    "print(\"processing\", end=\"\")\n",
    "for i in range(executations):\n",
    "    \n",
    "    # shuffle the rows\n",
    "    df = df1.sample(frac=1)\n",
    "    \n",
    "    X = df.iloc[:,:-1]\n",
    "    Y = df.iloc[:,-1]\n",
    "\n",
    "    #RandomOverSampler apply for unbalanced data\n",
    "    oversample = RandomOverSampler(sampling_strategy='minority')\n",
    "    X_over, Y_over = oversample.fit_sample(X,Y) \n",
    "    \n",
    "    # splitting dataset into 70% for training and 30% for testing\n",
    "    X_train, X_test, y_train, y_test = train_test_split(X_over,Y_over, test_size = 0.3, random_state = 0, shuffle=False,stratify=None) \n",
    "    \n",
    "    X_train= std_.fit_transform(X_train)  # standarize the data\n",
    "    X_test= std_.transform(X_test) \n",
    "    \n",
    "    # applying bagging\n",
    "    base_estimator = DecisionTreeClassifier()\n",
    "    model_rf = BaggingClassifier(base_estimator = base_estimator)\n",
    "    model_rf.fit(X_train,y_train)\n",
    "    prediction_rf = model_rf.predict(X_test)\n",
    "    \n",
    "    acc1.append(accuracy_score(y_test, prediction_rf))\n",
    "    F1.append(f1_score(y_test, prediction_rf))\n",
    "    roc_AUC1.append(roc_auc_score(y_test, prediction_rf))\n",
    "    precision, recall, thresholds = precision_recall_curve(y_test, prediction_rf) # Compute Precision-Recall and plot curve\n",
    "    area = auc(recall, precision)\n",
    "    pr_AUC1.append(area)\n",
    "    TN, FP, FN, TP = confusion_matrix(y_test, prediction_rf).ravel()       \n",
    "    TPR = TP/(TP+FN) # Sensitivity, hit rate, recall, or true positive rate\n",
    "    TNR = TN/(TN+FP) # Specificity or true negative rate\n",
    "    TP_rate1.append(TPR)\n",
    "    TN_rate1.append(TNR)   \n",
    "    MCC1.append(matthews_corrcoef(y_test, prediction_rf))    \n",
    "    \n",
    "    # applying boosting\n",
    "    base_estimator = DecisionTreeClassifier()\n",
    "    model_gb = AdaBoostClassifier(base_estimator = base_estimator)\n",
    "    model_gb.fit(X_train,y_train)\n",
    "    prediction_gb = model_gb.predict(X_test)\n",
    "    \n",
    "    acc3.append(accuracy_score(y_test, prediction_gb))\n",
    "    F3.append(f1_score(y_test, prediction_gb))\n",
    "    roc_AUC3.append(roc_auc_score(y_test, prediction_gb))\n",
    "    precision, recall, thresholds = precision_recall_curve(y_test, prediction_gb) # Compute Precision-Recall and plot curve\n",
    "    area = auc(recall, precision)\n",
    "    pr_AUC3.append(area)\n",
    "    TN, FP, FN, TP = confusion_matrix(y_test, prediction_gb).ravel()       \n",
    "    TPR = TP/(TP+FN) # Sensitivity, hit rate, recall, or true positive rate\n",
    "    TNR = TN/(TN+FP) # Specificity or true negative rate\n",
    "    TP_rate3.append(TPR)\n",
    "    TN_rate3.append(TNR)   \n",
    "    MCC3.append(matthews_corrcoef(y_test, prediction_gb))\n",
    "    \n",
    "    # applying stacking\n",
    "    base_estimator = [\n",
    "      ('rf', RandomForestClassifier())\n",
    "    ]\n",
    "    model = StackingClassifier(estimators=base_estimator, final_estimator=LogisticRegression())\n",
    "    model.fit(X_train,y_train)\n",
    "    prediction = model.predict(X_test)\n",
    "    \n",
    "    acc4.append(accuracy_score(y_test, prediction))\n",
    "    F4.append(f1_score(y_test, prediction))\n",
    "    roc_AUC4.append(roc_auc_score(y_test, prediction))\n",
    "    precision, recall, thresholds = precision_recall_curve(y_test, prediction) # Compute Precision-Recall and plot curve\n",
    "    area = auc(recall, precision)\n",
    "    pr_AUC4.append(area)\n",
    "    TN, FP, FN, TP = confusion_matrix(y_test, prediction).ravel()       \n",
    "    TPR = TP/(TP+FN) # Sensitivity, hit rate, recall, or true positive rate\n",
    "    TNR = TN/(TN+FP) # Specificity or true negative rate\n",
    "    TP_rate4.append(TPR)\n",
    "    TN_rate4.append(TNR)   \n",
    "    MCC4.append(matthews_corrcoef(y_test, prediction))\n",
    "    \n",
    "    \n",
    "    \n",
    "    print(\"=\"*1, end=\"\")\n",
    "print(\"done\")    "
   ]
  },
  {
   "cell_type": "code",
   "execution_count": null,
   "metadata": {
    "colab": {
     "base_uri": "https://localhost:8080/"
    },
    "id": "vHG-asDDJKxI",
    "outputId": "3f889e06-89f2-4fa7-c7e3-6fd69055bc47"
   },
   "outputs": [
    {
     "name": "stdout",
     "output_type": "stream",
     "text": [
      "Results by using RANDOM_OVER_SAMPLE technique for balance the data (mean 70 executions)\n",
      "+------------------------------+-------+------------+------------+-----------+-----------+----------+-----------+\n",
      "| Method                       |   MCC |   F1 score |   Accuracy |   TP rate |   TN rate |   PR AUC |   ROC AUC |\n",
      "|------------------------------+-------+------------+------------+-----------+-----------+----------+-----------|\n",
      "| Bagging (RandomOverSampler)  | 0.692 |      0.961 |      0.931 |     0.933 |     0.909 |    0.993 |     0.921 |\n",
      "| Boosting (RandomOverSampler) | 0.749 |      0.974 |      0.954 |     0.965 |     0.846 |    0.991 |     0.905 |\n",
      "| Stacking (RandomOverSampler) | 0.749 |      0.974 |      0.954 |     0.965 |     0.846 |    0.991 |     0.905 |\n",
      "+------------------------------+-------+------------+------------+-----------+-----------+----------+-----------+\n"
     ]
    }
   ],
   "source": [
    "bagging_results = [np.mean(MCC1),np.mean(F1),np.mean(acc1),np.mean(TP_rate1),np.mean(TN_rate1),np.mean(pr_AUC1),np.mean(roc_AUC1)]\n",
    "boosting_results = [np.mean(MCC3),np.mean(F3),np.mean(acc3),np.mean(TP_rate3),np.mean(TN_rate3),np.mean(pr_AUC3),np.mean(roc_AUC3)]\n",
    "stacking_results = [np.mean(MCC4),np.mean(F4),np.mean(acc4),np.mean(TP_rate4),np.mean(TN_rate4),np.mean(pr_AUC4),np.mean(roc_AUC4)]\n",
    "\n",
    "models = [bagging_results,boosting_results, boosting_results]\n",
    "acc = []\n",
    "F1 = []\n",
    "roc_AUC = []\n",
    "pr_AUC = []\n",
    "TP_rate = []\n",
    "TN_rate = []\n",
    "MCC = []\n",
    "for i in models:\n",
    "    MCC.append(round(i[0],3))\n",
    "    F1.append(round(i[1],3))    \n",
    "    acc.append(round(i[2],3))    \n",
    "    TP_rate.append(round(i[3],3))    \n",
    "    TN_rate.append(round(i[4],3))   \n",
    "    pr_AUC.append(round(i[5],3)) \n",
    "    roc_AUC.append(round(i[6],3))    \n",
    "   \n",
    "\n",
    "# showing all models result\n",
    "dic = {\n",
    "    'Method':['Bagging (RandomOverSampler)', 'Boosting (RandomOverSampler)','Stacking (RandomOverSampler)'],\n",
    "    'MCC' : MCC,\n",
    "    'F1 score' : F1,\n",
    "    'Accuracy' : acc,\n",
    "    'TP rate' : TP_rate,\n",
    "    'TN rate' : TN_rate,\n",
    "    'PR AUC' : pr_AUC,\n",
    "    'ROC AUC' : roc_AUC,\n",
    "    \n",
    "\n",
    "}\n",
    "metrics_df_3 = pd.DataFrame(dic)\n",
    "\n",
    "metrics_df_3 = metrics_df_3.set_index('Method')\n",
    "# displaying the DataFrame\n",
    "print(\"Results by using RANDOM_OVER_SAMPLE technique for balance the data (mean 70 executions)\")\n",
    "print(tabulate(metrics_df_3, headers = 'keys', tablefmt = 'psql'))"
   ]
  }
 ],
 "metadata": {
  "colab": {
   "collapsed_sections": [],
   "name": "Research_Based_Article_Update.ipynb",
   "provenance": []
  },
  "kernelspec": {
   "display_name": "Python 3",
   "language": "python",
   "name": "python3"
  },
  "language_info": {
   "codemirror_mode": {
    "name": "ipython",
    "version": 3
   },
   "file_extension": ".py",
   "mimetype": "text/x-python",
   "name": "python",
   "nbconvert_exporter": "python",
   "pygments_lexer": "ipython3",
   "version": "3.7.9"
  }
 },
 "nbformat": 4,
 "nbformat_minor": 1
}
